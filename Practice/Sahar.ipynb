{
 "cells": [
  {
   "cell_type": "code",
   "execution_count": 5,
   "metadata": {},
   "outputs": [],
   "source": [
    "import pandas as pd\n",
    "import spacy\n",
    "import re\n",
    "from tqdm import tqdm"
   ]
  },
  {
   "cell_type": "code",
   "execution_count": 2,
   "metadata": {},
   "outputs": [],
   "source": [
    "df_train= pd.read_csv(\"./arxiv_train.csv\")\n",
    "df_test=pd.read_csv(\"./arxiv_test.csv\")"
   ]
  },
  {
   "cell_type": "code",
   "execution_count": 4,
   "metadata": {},
   "outputs": [],
   "source": [
    "#Removing Special character\n",
    "def remove_special_characters(text):\n",
    "    return re.sub(r'[^a-zA-Z0-9\\s]', '', text)\n",
    "df_train['abstract'] = df_train['abstract'].apply(remove_special_characters)\n",
    "df_train['label'] = df_train['label'].apply(remove_special_characters)\n",
    "df_test['abstract'] = df_test['abstract'].apply(remove_special_characters)\n",
    "df_test['label'] = df_test['label'].apply(remove_special_characters)"
   ]
  },
  {
   "cell_type": "code",
   "execution_count": 6,
   "metadata": {},
   "outputs": [],
   "source": [
    "#Tokenizing\n",
    "nlp = spacy.load(\"en_core_web_sm\")\n",
    "def tokenize_with_progress(texts):\n",
    "    tokenized_texts = []\n",
    "    for doc in tqdm(nlp.pipe(texts, batch_size=20), total=len(texts)):\n",
    "        tokenized_texts.append([token.text for token in doc])\n",
    "    return tokenized_texts"
   ]
  },
  {
   "cell_type": "code",
   "execution_count": 7,
   "metadata": {},
   "outputs": [
    {
     "name": "stderr",
     "output_type": "stream",
     "text": [
      "100%|██████████| 80000/80000 [17:52<00:00, 74.60it/s]\n",
      "100%|██████████| 80000/80000 [00:43<00:00, 1845.35it/s]\n"
     ]
    }
   ],
   "source": [
    "df_train['abstract_tokenized'] = tokenize_with_progress(df_train['abstract'].tolist())\n",
    "df_train['label_tokenized'] = tokenize_with_progress(df_train['label'].tolist())"
   ]
  },
  {
   "cell_type": "code",
   "execution_count": 8,
   "metadata": {},
   "outputs": [],
   "source": [
    "def lemmatize_tokens(token_lists):\n",
    "    lemmatized_texts = []\n",
    "    # Processing each list of tokens\n",
    "    for token_list in tqdm(token_lists, total=len(token_lists)):\n",
    "        # Temporarily rejoining tokens for processing as Doc objects\n",
    "        doc = nlp(\" \".join(token_list))\n",
    "        # Lemmatizing tokens and collecting lemmas\n",
    "        lemmatized_texts.append([token.lemma_ for token in doc])\n",
    "    return lemmatized_texts"
   ]
  },
  {
   "cell_type": "code",
   "execution_count": 9,
   "metadata": {},
   "outputs": [
    {
     "name": "stderr",
     "output_type": "stream",
     "text": [
      "100%|██████████| 80000/80000 [3:07:24<00:00,  7.11it/s]      \n"
     ]
    }
   ],
   "source": [
    "df_train['abstract_tokenized_lemmatized'] = lemmatize_tokens(df_train['abstract_tokenized'].tolist())\n"
   ]
  },
  {
   "cell_type": "code",
   "execution_count": 15,
   "metadata": {},
   "outputs": [],
   "source": [
    "from sklearn.feature_extraction.text import TfidfVectorizer\n",
    "tfidf_vectorizer = TfidfVectorizer()\n",
    "X_train_TF = tfidf_vectorizer.fit_transform(df_train['abstract'])\n",
    "y_train_TF = df_train['label']"
   ]
  },
  {
   "cell_type": "code",
   "execution_count": 16,
   "metadata": {},
   "outputs": [],
   "source": [
    "from sklearn.feature_extraction.text import CountVectorizer\n",
    "count_vectorizer = CountVectorizer()\n",
    "X_train_count = count_vectorizer.fit_transform(df_train['abstract'])\n",
    "y_train_count = df_train['label']"
   ]
  }
 ],
 "metadata": {
  "kernelspec": {
   "display_name": "Python 3",
   "language": "python",
   "name": "python3"
  },
  "language_info": {
   "codemirror_mode": {
    "name": "ipython",
    "version": 3
   },
   "file_extension": ".py",
   "mimetype": "text/x-python",
   "name": "python",
   "nbconvert_exporter": "python",
   "pygments_lexer": "ipython3",
   "version": "3.10.11"
  }
 },
 "nbformat": 4,
 "nbformat_minor": 2
}
