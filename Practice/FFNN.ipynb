{
 "cells": [
  {
   "cell_type": "code",
   "execution_count": 2,
   "metadata": {},
   "outputs": [],
   "source": [
    "import pandas as pd\n",
    "from sklearn.feature_extraction.text import CountVectorizer, TfidfVectorizer\n",
    "import torch\n",
    "import torch.nn as nn\n",
    "import torch.optim as optim\n",
    "from sklearn.feature_extraction.text import CountVectorizer\n",
    "from sklearn.model_selection import train_test_split\n",
    "from sklearn.metrics import accuracy_score, precision_score, recall_score, f1_score\n",
    "import matplotlib.pyplot as plt\n",
    "import seaborn as sns\n",
    "from sklearn.metrics import confusion_matrix, ConfusionMatrixDisplay\n",
    "from torch.utils.data import DataLoader, Dataset\n",
    "import re\n",
    "import nltk\n",
    "from nltk.corpus import stopwords\n",
    "from nltk.tokenize import word_tokenize\n",
    "from nltk.stem import WordNetLemmatizer, PorterStemmer"
   ]
  },
  {
   "cell_type": "code",
   "execution_count": 3,
   "metadata": {},
   "outputs": [
    {
     "data": {
      "text/html": [
       "<div>\n",
       "<style scoped>\n",
       "    .dataframe tbody tr th:only-of-type {\n",
       "        vertical-align: middle;\n",
       "    }\n",
       "\n",
       "    .dataframe tbody tr th {\n",
       "        vertical-align: top;\n",
       "    }\n",
       "\n",
       "    .dataframe thead th {\n",
       "        text-align: right;\n",
       "    }\n",
       "</style>\n",
       "<table border=\"1\" class=\"dataframe\">\n",
       "  <thead>\n",
       "    <tr style=\"text-align: right;\">\n",
       "      <th></th>\n",
       "      <th>Unnamed: 0</th>\n",
       "      <th>abstract</th>\n",
       "      <th>label</th>\n",
       "    </tr>\n",
       "  </thead>\n",
       "  <tbody>\n",
       "    <tr>\n",
       "      <th>0</th>\n",
       "      <td>31716</td>\n",
       "      <td>Automatic meeting analysis is an essential f...</td>\n",
       "      <td>eess</td>\n",
       "    </tr>\n",
       "    <tr>\n",
       "      <th>1</th>\n",
       "      <td>89533</td>\n",
       "      <td>We propose a protocol to encode classical bi...</td>\n",
       "      <td>quant-ph</td>\n",
       "    </tr>\n",
       "    <tr>\n",
       "      <th>2</th>\n",
       "      <td>82700</td>\n",
       "      <td>A number of physically intuitive results for...</td>\n",
       "      <td>quant-ph</td>\n",
       "    </tr>\n",
       "    <tr>\n",
       "      <th>3</th>\n",
       "      <td>78830</td>\n",
       "      <td>In the last decade rare-earth hexaborides ha...</td>\n",
       "      <td>physics</td>\n",
       "    </tr>\n",
       "    <tr>\n",
       "      <th>4</th>\n",
       "      <td>94948</td>\n",
       "      <td>We introduce the weak barycenter of a family...</td>\n",
       "      <td>stat</td>\n",
       "    </tr>\n",
       "    <tr>\n",
       "      <th>...</th>\n",
       "      <td>...</td>\n",
       "      <td>...</td>\n",
       "      <td>...</td>\n",
       "    </tr>\n",
       "    <tr>\n",
       "      <th>79995</th>\n",
       "      <td>27913</td>\n",
       "      <td>In this paper, the sum secure degrees of fre...</td>\n",
       "      <td>cs</td>\n",
       "    </tr>\n",
       "    <tr>\n",
       "      <th>79996</th>\n",
       "      <td>94441</td>\n",
       "      <td>In areas of application, including actuarial...</td>\n",
       "      <td>stat</td>\n",
       "    </tr>\n",
       "    <tr>\n",
       "      <th>79997</th>\n",
       "      <td>33015</td>\n",
       "      <td>Failure detection is employed in the industr...</td>\n",
       "      <td>eess</td>\n",
       "    </tr>\n",
       "    <tr>\n",
       "      <th>79998</th>\n",
       "      <td>942</td>\n",
       "      <td>As part of the ongoing effort to characteriz...</td>\n",
       "      <td>astro-ph</td>\n",
       "    </tr>\n",
       "    <tr>\n",
       "      <th>79999</th>\n",
       "      <td>67462</td>\n",
       "      <td>This paper develops an online algorithm to s...</td>\n",
       "      <td>math</td>\n",
       "    </tr>\n",
       "  </tbody>\n",
       "</table>\n",
       "<p>80000 rows × 3 columns</p>\n",
       "</div>"
      ],
      "text/plain": [
       "       Unnamed: 0                                           abstract     label\n",
       "0           31716    Automatic meeting analysis is an essential f...      eess\n",
       "1           89533    We propose a protocol to encode classical bi...  quant-ph\n",
       "2           82700    A number of physically intuitive results for...  quant-ph\n",
       "3           78830    In the last decade rare-earth hexaborides ha...   physics\n",
       "4           94948    We introduce the weak barycenter of a family...      stat\n",
       "...           ...                                                ...       ...\n",
       "79995       27913    In this paper, the sum secure degrees of fre...        cs\n",
       "79996       94441    In areas of application, including actuarial...      stat\n",
       "79997       33015    Failure detection is employed in the industr...      eess\n",
       "79998         942    As part of the ongoing effort to characteriz...  astro-ph\n",
       "79999       67462    This paper develops an online algorithm to s...      math\n",
       "\n",
       "[80000 rows x 3 columns]"
      ]
     },
     "execution_count": 3,
     "metadata": {},
     "output_type": "execute_result"
    }
   ],
   "source": [
    "train_data = pd.read_csv(\"./arxiv_train.csv\")\n",
    "train_data"
   ]
  },
  {
   "cell_type": "code",
   "execution_count": 4,
   "metadata": {},
   "outputs": [
    {
     "data": {
      "text/html": [
       "<div>\n",
       "<style scoped>\n",
       "    .dataframe tbody tr th:only-of-type {\n",
       "        vertical-align: middle;\n",
       "    }\n",
       "\n",
       "    .dataframe tbody tr th {\n",
       "        vertical-align: top;\n",
       "    }\n",
       "\n",
       "    .dataframe thead th {\n",
       "        text-align: right;\n",
       "    }\n",
       "</style>\n",
       "<table border=\"1\" class=\"dataframe\">\n",
       "  <thead>\n",
       "    <tr style=\"text-align: right;\">\n",
       "      <th></th>\n",
       "      <th>Unnamed: 0</th>\n",
       "      <th>abstract</th>\n",
       "      <th>label</th>\n",
       "    </tr>\n",
       "  </thead>\n",
       "  <tbody>\n",
       "    <tr>\n",
       "      <th>0</th>\n",
       "      <td>64481</td>\n",
       "      <td>We describe a shape derivative approach to p...</td>\n",
       "      <td>math</td>\n",
       "    </tr>\n",
       "    <tr>\n",
       "      <th>1</th>\n",
       "      <td>48104</td>\n",
       "      <td>We study displaced signatures of sneutrino p...</td>\n",
       "      <td>hep-ph</td>\n",
       "    </tr>\n",
       "    <tr>\n",
       "      <th>2</th>\n",
       "      <td>48233</td>\n",
       "      <td>High precision studies of Beyond-Standard-Mo...</td>\n",
       "      <td>hep-ph</td>\n",
       "    </tr>\n",
       "    <tr>\n",
       "      <th>3</th>\n",
       "      <td>49026</td>\n",
       "      <td>We find that a class of models of MeV-GeV da...</td>\n",
       "      <td>hep-ph</td>\n",
       "    </tr>\n",
       "    <tr>\n",
       "      <th>4</th>\n",
       "      <td>37957</td>\n",
       "      <td>Knowledge of power grid's topology during ca...</td>\n",
       "      <td>eess</td>\n",
       "    </tr>\n",
       "    <tr>\n",
       "      <th>...</th>\n",
       "      <td>...</td>\n",
       "      <td>...</td>\n",
       "      <td>...</td>\n",
       "    </tr>\n",
       "    <tr>\n",
       "      <th>19995</th>\n",
       "      <td>50391</td>\n",
       "      <td>We explore the dynamics of a simple class of...</td>\n",
       "      <td>hep-th</td>\n",
       "    </tr>\n",
       "    <tr>\n",
       "      <th>19996</th>\n",
       "      <td>63534</td>\n",
       "      <td>In this paper one construction of compositio...</td>\n",
       "      <td>math</td>\n",
       "    </tr>\n",
       "    <tr>\n",
       "      <th>19997</th>\n",
       "      <td>16712</td>\n",
       "      <td>The Random-First-Order-Transition theory of ...</td>\n",
       "      <td>cond-mat</td>\n",
       "    </tr>\n",
       "    <tr>\n",
       "      <th>19998</th>\n",
       "      <td>6596</td>\n",
       "      <td>Accurate chemical abundance measurements of ...</td>\n",
       "      <td>astro-ph</td>\n",
       "    </tr>\n",
       "    <tr>\n",
       "      <th>19999</th>\n",
       "      <td>93725</td>\n",
       "      <td>Generalized linear models are often misspeci...</td>\n",
       "      <td>stat</td>\n",
       "    </tr>\n",
       "  </tbody>\n",
       "</table>\n",
       "<p>20000 rows × 3 columns</p>\n",
       "</div>"
      ],
      "text/plain": [
       "       Unnamed: 0                                           abstract     label\n",
       "0           64481    We describe a shape derivative approach to p...      math\n",
       "1           48104    We study displaced signatures of sneutrino p...    hep-ph\n",
       "2           48233    High precision studies of Beyond-Standard-Mo...    hep-ph\n",
       "3           49026    We find that a class of models of MeV-GeV da...    hep-ph\n",
       "4           37957    Knowledge of power grid's topology during ca...      eess\n",
       "...           ...                                                ...       ...\n",
       "19995       50391    We explore the dynamics of a simple class of...    hep-th\n",
       "19996       63534    In this paper one construction of compositio...      math\n",
       "19997       16712    The Random-First-Order-Transition theory of ...  cond-mat\n",
       "19998        6596    Accurate chemical abundance measurements of ...  astro-ph\n",
       "19999       93725    Generalized linear models are often misspeci...      stat\n",
       "\n",
       "[20000 rows x 3 columns]"
      ]
     },
     "execution_count": 4,
     "metadata": {},
     "output_type": "execute_result"
    }
   ],
   "source": [
    "# Load the train set\n",
    "test_data = pd.read_csv(\"./arxiv_test.csv\")\n",
    "test_data"
   ]
  },
  {
   "cell_type": "code",
   "execution_count": 5,
   "metadata": {},
   "outputs": [],
   "source": [
    "count_vectorizer = CountVectorizer(max_features=5000)  # Adjust max_features as needed\n",
    "tfidf_vectorizer = TfidfVectorizer(max_features=5000)"
   ]
  },
  {
   "cell_type": "code",
   "execution_count": 6,
   "metadata": {},
   "outputs": [],
   "source": [
    "X_train_count = count_vectorizer.fit_transform(train_data[\"abstract\"]).toarray()\n",
    "X_test_count = count_vectorizer.transform(test_data[\"abstract\"]).toarray()"
   ]
  },
  {
   "cell_type": "code",
   "execution_count": 7,
   "metadata": {},
   "outputs": [],
   "source": [
    "X_train_tfidf = tfidf_vectorizer.fit_transform(train_data[\"abstract\"]).toarray()\n",
    "X_test_tfidf = tfidf_vectorizer.transform(test_data[\"abstract\"]).toarray()"
   ]
  },
  {
   "cell_type": "code",
   "execution_count": 8,
   "metadata": {},
   "outputs": [],
   "source": [
    "label_encoder = {label: idx for idx, label in enumerate(train_data[\"label\"].unique())}\n",
    "train_data[\"label_encoded\"] = train_data[\"label\"].map(label_encoder)\n",
    "test_data[\"label_encoded\"] = test_data[\"label\"].map(label_encoder)"
   ]
  },
  {
   "cell_type": "code",
   "execution_count": 9,
   "metadata": {},
   "outputs": [],
   "source": [
    "y_train = torch.tensor(train_data[\"label_encoded\"].values)\n",
    "y_test = torch.tensor(test_data[\"label_encoded\"].values)"
   ]
  },
  {
   "cell_type": "code",
   "execution_count": 10,
   "metadata": {},
   "outputs": [],
   "source": [
    "class CustomDataset(Dataset):\n",
    "    def __init__(self, features, labels):\n",
    "        self.features = features\n",
    "        self.labels = labels\n",
    "\n",
    "    def __len__(self):\n",
    "        return len(self.features)\n",
    "\n",
    "    def __getitem__(self, idx):\n",
    "        return self.features[idx], self.labels[idx]"
   ]
  },
  {
   "cell_type": "code",
   "execution_count": 11,
   "metadata": {},
   "outputs": [],
   "source": [
    "class FFNN(nn.Module):\n",
    "    def __init__(self, input_size, hidden_size, output_size, num_layers, activation=nn.ReLU()):\n",
    "        super(FFNN, self).__init__()\n",
    "        self.num_layers = num_layers\n",
    "        self.hidden_layers = nn.ModuleList()\n",
    "        for i in range(num_layers):\n",
    "            if i == 0:\n",
    "                self.hidden_layers.append(nn.Linear(input_size, hidden_size))\n",
    "            elif i == num_layers - 1:\n",
    "                self.hidden_layers.append(nn.Linear(hidden_size, output_size))\n",
    "            else:\n",
    "                self.hidden_layers.append(nn.Linear(hidden_size, hidden_size))\n",
    "            self.hidden_layers.append(activation)\n",
    "\n",
    "    def forward(self, x):\n",
    "        for layer in self.hidden_layers:\n",
    "            x = layer(x)\n",
    "        return x\n",
    "\n"
   ]
  },
  {
   "cell_type": "code",
   "execution_count": 12,
   "metadata": {},
   "outputs": [],
   "source": [
    "# Function to train the model\n",
    "def train_model(model, criterion, optimizer, train_loader, num_epochs):\n",
    "    for epoch in range(num_epochs):\n",
    "        model.train()\n",
    "        running_loss = 0.0\n",
    "        for inputs, labels in train_loader:\n",
    "            optimizer.zero_grad()\n",
    "            outputs = model(inputs.float())\n",
    "            loss = criterion(outputs, labels)\n",
    "            loss.backward()\n",
    "            optimizer.step()\n",
    "            running_loss += loss.item()\n",
    "        print(f\"Epoch [{epoch+1}/{num_epochs}], Loss: {running_loss}\")"
   ]
  },
  {
   "cell_type": "code",
   "execution_count": 13,
   "metadata": {},
   "outputs": [],
   "source": [
    "# Function to evaluate the model\n",
    "def evaluate_model(model, test_loader):\n",
    "    model.eval()\n",
    "    all_preds = []\n",
    "    all_labels = []\n",
    "    with torch.no_grad():\n",
    "        for inputs, labels in test_loader:\n",
    "            outputs = model(inputs.float())\n",
    "            preds = torch.argmax(outputs, dim=1)\n",
    "            all_preds.extend(preds.tolist())\n",
    "            all_labels.extend(labels.tolist())\n",
    "\n",
    "    accuracy = accuracy_score(all_labels, all_preds)\n",
    "    precision = precision_score(all_labels, all_preds, average='macro')\n",
    "    recall = recall_score(all_labels, all_preds, average='macro')\n",
    "    f1 = f1_score(all_labels, all_preds, average='macro')\n",
    "\n",
    "    print(f\"Accuracy: {accuracy}, Precision: {precision}, Recall: {recall}, F1-Score: {f1}\")"
   ]
  },
  {
   "cell_type": "code",
   "execution_count": 14,
   "metadata": {},
   "outputs": [],
   "source": [
    "# Define train and test datasets\n",
    "train_dataset_count = CustomDataset(X_train_count, y_train)\n",
    "test_dataset_count = CustomDataset(X_test_count, y_test)\n",
    "\n",
    "train_dataset_tfidf = CustomDataset(X_train_tfidf, y_train)\n",
    "test_dataset_tfidf = CustomDataset(X_test_tfidf, y_test)\n",
    "\n",
    "# Define data loaders\n",
    "train_loader_count = DataLoader(train_dataset_count, batch_size=64, shuffle=True)\n",
    "test_loader_count = DataLoader(test_dataset_count, batch_size=64, shuffle=False)\n",
    "\n",
    "train_loader_tfidf = DataLoader(train_dataset_tfidf, batch_size=64, shuffle=True)\n",
    "test_loader_tfidf = DataLoader(test_dataset_tfidf, batch_size=64, shuffle=False)"
   ]
  },
  {
   "cell_type": "markdown",
   "metadata": {},
   "source": [
    "# Evaluating different number of layers "
   ]
  },
  {
   "cell_type": "code",
   "execution_count": 14,
   "metadata": {},
   "outputs": [
    {
     "name": "stdout",
     "output_type": "stream",
     "text": [
      "Training FFNN with CountVectorizer and 1 layers\n",
      "Epoch [1/10], Loss: 743.0623899400234\n",
      "Epoch [2/10], Loss: 445.8628660440445\n",
      "Epoch [3/10], Loss: 263.4596190750599\n",
      "Epoch [4/10], Loss: 114.98958802036941\n",
      "Epoch [5/10], Loss: 38.809479392599314\n",
      "Epoch [6/10], Loss: 14.333205292350613\n",
      "Epoch [7/10], Loss: 7.945223589427769\n",
      "Epoch [8/10], Loss: 20.164672709885053\n",
      "Epoch [9/10], Loss: 16.07088966111769\n",
      "Epoch [10/10], Loss: 7.142239848835743\n",
      "Evaluation on Test Set:\n",
      "Accuracy: 0.8107, Precision: 0.8109409515555879, Recall: 0.8104510494535951, F1-Score: 0.8096136114078154\n",
      "\n",
      "Training FFNN with CountVectorizer and 2 layers\n",
      "Epoch [1/10], Loss: 749.5075382143259\n",
      "Epoch [2/10], Loss: 440.41998664289713\n",
      "Epoch [3/10], Loss: 258.40501895174384\n",
      "Epoch [4/10], Loss: 110.69346080627292\n",
      "Epoch [5/10], Loss: 52.09413174400106\n",
      "Epoch [6/10], Loss: 48.67403827956878\n",
      "Epoch [7/10], Loss: 33.54433995686122\n",
      "Epoch [8/10], Loss: 30.207818542796304\n",
      "Epoch [9/10], Loss: 32.536002864377224\n",
      "Epoch [10/10], Loss: 25.806746830567135\n",
      "Evaluation on Test Set:\n",
      "Accuracy: 0.806, Precision: 0.8069247174341326, Recall: 0.8057463806897079, F1-Score: 0.8056152564440584\n",
      "\n",
      "Training FFNN with CountVectorizer and 3 layers\n",
      "Epoch [1/10], Loss: 769.404712587595\n",
      "Epoch [2/10], Loss: 459.93614304065704\n",
      "Epoch [3/10], Loss: 273.43068661913276\n",
      "Epoch [4/10], Loss: 140.1108162254095\n",
      "Epoch [5/10], Loss: 73.98355375614483\n",
      "Epoch [6/10], Loss: 55.99484885338461\n",
      "Epoch [7/10], Loss: 42.89699421336991\n",
      "Epoch [8/10], Loss: 36.55461804187871\n",
      "Epoch [9/10], Loss: 34.396219057591225\n",
      "Epoch [10/10], Loss: 28.933283245394705\n",
      "Evaluation on Test Set:\n",
      "Accuracy: 0.8055, Precision: 0.8052012348786637, Recall: 0.8052588610874144, F1-Score: 0.8040077378305313\n",
      "\n"
     ]
    }
   ],
   "source": [
    "# Train and evaluate FFNN with CountVectorizer and different numbers of layers\n",
    "input_size_count = X_train_count.shape[1]\n",
    "output_size_count = len(label_encoder)\n",
    "for num_layers in [1, 2, 3]:\n",
    "    print(f\"Training FFNN with CountVectorizer and {num_layers} layers\")\n",
    "    ffnn_count = FFNN(input_size_count, 256, output_size_count, num_layers)\n",
    "    criterion = nn.CrossEntropyLoss()\n",
    "    optimizer = optim.Adam(ffnn_count.parameters(), lr=0.001)\n",
    "    train_model(ffnn_count, criterion, optimizer, train_loader_count, num_epochs=10)\n",
    "    print(\"Evaluation on Test Set:\")\n",
    "    evaluate_model(ffnn_count, test_loader_count)\n",
    "    print()"
   ]
  },
  {
   "cell_type": "code",
   "execution_count": 20,
   "metadata": {},
   "outputs": [
    {
     "name": "stdout",
     "output_type": "stream",
     "text": [
      "Training FFNN with TF-IDF and 1 layers\n",
      "Epoch [1/10], Loss: 5326.840245485306\n",
      "Epoch [2/10], Loss: 3824.8796890974045\n",
      "Epoch [3/10], Loss: 3184.4817782640457\n",
      "Epoch [4/10], Loss: 3002.0328738689423\n",
      "Epoch [5/10], Loss: 2892.8296970129013\n",
      "Epoch [6/10], Loss: 2819.685179710388\n",
      "Epoch [7/10], Loss: 2767.6214294433594\n",
      "Epoch [8/10], Loss: 2728.7652148008347\n",
      "Epoch [9/10], Loss: 2698.5428136587143\n",
      "Epoch [10/10], Loss: 2674.2725652456284\n",
      "Evaluation on Test Set:\n"
     ]
    },
    {
     "name": "stderr",
     "output_type": "stream",
     "text": [
      "C:\\Users\\SaharKadkhodaMasoumA\\AppData\\Local\\Packages\\PythonSoftwareFoundation.Python.3.10_qbz5n2kfra8p0\\LocalCache\\local-packages\\Python310\\site-packages\\sklearn\\metrics\\_classification.py:1497: UndefinedMetricWarning: Precision is ill-defined and being set to 0.0 in labels with no predicted samples. Use `zero_division` parameter to control this behavior.\n",
      "  _warn_prf(average, modifier, f\"{metric.capitalize()} is\", len(result))\n"
     ]
    },
    {
     "name": "stdout",
     "output_type": "stream",
     "text": [
      "Accuracy: 0.60995, Precision: 0.4508947859006704, Recall: 0.6116196951717745, F1-Score: 0.5135931465719163\n",
      "\n",
      "Training FFNN with TF-IDF and 2 layers\n",
      "Epoch [1/10], Loss: 1515.5565091967583\n",
      "Epoch [2/10], Loss: 1282.4970963001251\n",
      "Epoch [3/10], Loss: 1224.7731808423996\n",
      "Epoch [4/10], Loss: 1178.9496647119522\n",
      "Epoch [5/10], Loss: 1134.6555883586407\n",
      "Epoch [6/10], Loss: 1090.07475528121\n",
      "Epoch [7/10], Loss: 1048.1092193722725\n",
      "Epoch [8/10], Loss: 1011.3235712349415\n",
      "Epoch [9/10], Loss: 981.8349013328552\n",
      "Epoch [10/10], Loss: 960.0872549414635\n",
      "Evaluation on Test Set:\n"
     ]
    },
    {
     "name": "stderr",
     "output_type": "stream",
     "text": [
      "C:\\Users\\SaharKadkhodaMasoumA\\AppData\\Local\\Packages\\PythonSoftwareFoundation.Python.3.10_qbz5n2kfra8p0\\LocalCache\\local-packages\\Python310\\site-packages\\sklearn\\metrics\\_classification.py:1497: UndefinedMetricWarning: Precision is ill-defined and being set to 0.0 in labels with no predicted samples. Use `zero_division` parameter to control this behavior.\n",
      "  _warn_prf(average, modifier, f\"{metric.capitalize()} is\", len(result))\n"
     ]
    },
    {
     "name": "stdout",
     "output_type": "stream",
     "text": [
      "Accuracy: 0.6571, Precision: 0.5788497089397758, Recall: 0.6565813106362854, F1-Score: 0.6075712012055713\n",
      "\n",
      "Training FFNN with TF-IDF and 3 layers\n",
      "Epoch [1/10], Loss: 1682.6027935743332\n",
      "Epoch [2/10], Loss: 1506.8588567376137\n",
      "Epoch [3/10], Loss: 1428.2502170205116\n",
      "Epoch [4/10], Loss: 1336.810312628746\n",
      "Epoch [5/10], Loss: 1258.6320641040802\n",
      "Epoch [6/10], Loss: 1223.6720420718193\n",
      "Epoch [7/10], Loss: 1216.6805083155632\n",
      "Epoch [8/10], Loss: 1218.678000152111\n",
      "Epoch [9/10], Loss: 1214.6673249602318\n",
      "Epoch [10/10], Loss: 1213.8080894947052\n",
      "Evaluation on Test Set:\n",
      "Accuracy: 0.57375, Precision: 0.5084068580230362, Recall: 0.5751658508275816, F1-Score: 0.522698408944996\n",
      "\n"
     ]
    },
    {
     "name": "stderr",
     "output_type": "stream",
     "text": [
      "C:\\Users\\SaharKadkhodaMasoumA\\AppData\\Local\\Packages\\PythonSoftwareFoundation.Python.3.10_qbz5n2kfra8p0\\LocalCache\\local-packages\\Python310\\site-packages\\sklearn\\metrics\\_classification.py:1497: UndefinedMetricWarning: Precision is ill-defined and being set to 0.0 in labels with no predicted samples. Use `zero_division` parameter to control this behavior.\n",
      "  _warn_prf(average, modifier, f\"{metric.capitalize()} is\", len(result))\n"
     ]
    }
   ],
   "source": [
    "input_size_tfidf = X_train_tfidf.shape[1]\n",
    "output_size_tfidf = len(label_encoder)\n",
    "for num_layers in [1, 2, 3]:\n",
    "    print(f\"Training FFNN with TF-IDF and {num_layers} layers\")\n",
    "    ffnn_tfidf = FFNN(input_size_tfidf, 256, output_size_tfidf, num_layers)\n",
    "    criterion = nn.CrossEntropyLoss()\n",
    "    optimizer = optim.Adam(ffnn_tfidf.parameters(), lr=0.001)\n",
    "    train_model(ffnn_tfidf, criterion, optimizer, train_loader_tfidf, num_epochs=10)\n",
    "    print(\"Evaluation on Test Set:\")\n",
    "    evaluate_model(ffnn_tfidf, test_loader_tfidf)\n",
    "    print()"
   ]
  },
  {
   "cell_type": "markdown",
   "metadata": {},
   "source": [
    "# Evaluating Activation Function for Count Vectorizer feature detection method"
   ]
  },
  {
   "cell_type": "code",
   "execution_count": 18,
   "metadata": {},
   "outputs": [
    {
     "name": "stdout",
     "output_type": "stream",
     "text": [
      "Training FFNN with CountVectorizer and LeakyReLU as an activation function\n",
      "Epoch [1/10], Loss: 779.1226999759674\n",
      "Epoch [2/10], Loss: 461.2558950930834\n",
      "Epoch [3/10], Loss: 290.4565050601959\n",
      "Epoch [4/10], Loss: 142.1204579025507\n",
      "Epoch [5/10], Loss: 54.91493967361748\n",
      "Epoch [6/10], Loss: 22.617049310123548\n",
      "Epoch [7/10], Loss: 17.038059719197918\n",
      "Epoch [8/10], Loss: 20.81000182213029\n",
      "Epoch [9/10], Loss: 12.523910178308142\n",
      "Epoch [10/10], Loss: 10.43505616929906\n",
      "Evaluation on Test Set:\n",
      "Accuracy: 0.8091, Precision: 0.8084935102365746, Recall: 0.8085558081893665, F1-Score: 0.8082112300010884\n",
      "\n",
      "Training FFNN with CountVectorizer and ELU as an activation function\n",
      "Epoch [1/10], Loss: 733.471880197525\n",
      "Epoch [2/10], Loss: 483.33389146625996\n",
      "Epoch [3/10], Loss: 373.9589847549796\n",
      "Epoch [4/10], Loss: 272.5039286017418\n",
      "Epoch [5/10], Loss: 177.92759406752884\n",
      "Epoch [6/10], Loss: 97.2131339032203\n",
      "Epoch [7/10], Loss: 48.75164867145941\n",
      "Epoch [8/10], Loss: 25.524274023831822\n",
      "Epoch [9/10], Loss: 18.646939551923424\n",
      "Epoch [10/10], Loss: 13.896223361720331\n",
      "Evaluation on Test Set:\n",
      "Accuracy: 0.80465, Precision: 0.8040727404852188, Recall: 0.8042485883732702, F1-Score: 0.8035880516508642\n",
      "\n",
      "Training FFNN with CountVectorizer and Sigmoid as an activation function\n",
      "Epoch [1/10], Loss: 2110.6719179153442\n",
      "Epoch [2/10], Loss: 1972.3540918827057\n",
      "Epoch [3/10], Loss: 1943.1993063688278\n",
      "Epoch [4/10], Loss: 1924.9959646463394\n",
      "Epoch [5/10], Loss: 1911.9468610286713\n",
      "Epoch [6/10], Loss: 1902.2149419784546\n",
      "Epoch [7/10], Loss: 1895.0618300437927\n",
      "Epoch [8/10], Loss: 1889.2772533893585\n",
      "Epoch [9/10], Loss: 1884.8527474403381\n",
      "Epoch [10/10], Loss: 1881.1519565582275\n",
      "Evaluation on Test Set:\n",
      "Accuracy: 0.82655, Precision: 0.8255800498100377, Recall: 0.8261729584203765, F1-Score: 0.8254171529063544\n",
      "\n",
      "Training FFNN with CountVectorizer and Softmax as an activation function\n",
      "Epoch [1/10], Loss: 2686.5611946582794\n",
      "Epoch [2/10], Loss: 2431.937489748001\n",
      "Epoch [3/10], Loss: 2370.8911254405975\n",
      "Epoch [4/10], Loss: 2349.3485156297684\n",
      "Epoch [5/10], Loss: 2336.2262196540833\n",
      "Epoch [6/10], Loss: 2323.2664573192596\n",
      "Epoch [7/10], Loss: 2309.233703494072\n",
      "Epoch [8/10], Loss: 2292.3268373012543\n",
      "Epoch [9/10], Loss: 2274.1806730031967\n",
      "Epoch [10/10], Loss: 2254.2563601732254\n",
      "Evaluation on Test Set:\n",
      "Accuracy: 0.62685, Precision: 0.6271201022372678, Recall: 0.6288295173172381, F1-Score: 0.5785536079913695\n",
      "\n"
     ]
    }
   ],
   "source": [
    "# Train and evaluate FFNN with CountVectorizer and different activation function\n",
    "input_size_count = X_train_count.shape[1]\n",
    "output_size_count = len(label_encoder)\n",
    "activation_functions = [nn.LeakyReLU(), nn.ELU(), nn.Sigmoid(), nn.Softmax(dim=1)]\n",
    "\n",
    "for activation_function in activation_functions:\n",
    "    print(f\"Training FFNN with CountVectorizer and {activation_function.__class__.__name__} as an activation function\")\n",
    "    ffnn_count = FFNN(input_size_count, 256, output_size_count, num_layers=2, activation=activation_function)\n",
    "    criterion = nn.CrossEntropyLoss()\n",
    "    optimizer = optim.Adam(ffnn_count.parameters(), lr=0.001)\n",
    "    train_model(ffnn_count, criterion, optimizer, train_loader_count, num_epochs=10)\n",
    "    print(\"Evaluation on Test Set:\")\n",
    "    evaluate_model(ffnn_count, test_loader_count)\n",
    "    print()\n"
   ]
  },
  {
   "cell_type": "code",
   "execution_count": 48,
   "metadata": {},
   "outputs": [
    {
     "name": "stdout",
     "output_type": "stream",
     "text": [
      "Training FFNN with tfidf and LeakyReLU as an activation function\n",
      "Epoch [1/10], Loss: 1749.8307220339775\n",
      "Epoch [2/10], Loss: 1550.7487240433693\n",
      "Epoch [3/10], Loss: 1499.347153186798\n",
      "Epoch [4/10], Loss: 1456.0741328001022\n",
      "Epoch [5/10], Loss: 1411.1687846183777\n",
      "Epoch [6/10], Loss: 1365.7961130142212\n",
      "Epoch [7/10], Loss: 1321.3161405324936\n",
      "Epoch [8/10], Loss: 1283.5120163559914\n",
      "Epoch [9/10], Loss: 1255.94439214468\n",
      "Epoch [10/10], Loss: 1236.8211332559586\n",
      "Evaluation on Test Set:\n"
     ]
    },
    {
     "name": "stderr",
     "output_type": "stream",
     "text": [
      "C:\\Users\\SaharKadkhodaMasoumA\\AppData\\Local\\Packages\\PythonSoftwareFoundation.Python.3.10_qbz5n2kfra8p0\\LocalCache\\local-packages\\Python310\\site-packages\\sklearn\\metrics\\_classification.py:1497: UndefinedMetricWarning: Precision is ill-defined and being set to 0.0 in labels with no predicted samples. Use `zero_division` parameter to control this behavior.\n",
      "  _warn_prf(average, modifier, f\"{metric.capitalize()} is\", len(result))\n"
     ]
    },
    {
     "name": "stdout",
     "output_type": "stream",
     "text": [
      "Accuracy: 0.55025, Precision: 0.4722979387091396, Recall: 0.5528656732419206, F1-Score: 0.4977211554277593\n",
      "\n",
      "Training FFNN with tfidf and ELU as an activation function\n",
      "Epoch [1/10], Loss: 1503.7976242303848\n",
      "Epoch [2/10], Loss: 1279.82207518816\n",
      "Epoch [3/10], Loss: 1221.6461164355278\n",
      "Epoch [4/10], Loss: 1175.0153464078903\n",
      "Epoch [5/10], Loss: 1126.505851328373\n",
      "Epoch [6/10], Loss: 1078.1066450178623\n",
      "Epoch [7/10], Loss: 1031.5820057988167\n",
      "Epoch [8/10], Loss: 989.6726938486099\n",
      "Epoch [9/10], Loss: 957.9369266033173\n",
      "Epoch [10/10], Loss: 935.7010561823845\n",
      "Evaluation on Test Set:\n"
     ]
    },
    {
     "name": "stderr",
     "output_type": "stream",
     "text": [
      "C:\\Users\\SaharKadkhodaMasoumA\\AppData\\Local\\Packages\\PythonSoftwareFoundation.Python.3.10_qbz5n2kfra8p0\\LocalCache\\local-packages\\Python310\\site-packages\\sklearn\\metrics\\_classification.py:1497: UndefinedMetricWarning: Precision is ill-defined and being set to 0.0 in labels with no predicted samples. Use `zero_division` parameter to control this behavior.\n",
      "  _warn_prf(average, modifier, f\"{metric.capitalize()} is\", len(result))\n"
     ]
    },
    {
     "name": "stdout",
     "output_type": "stream",
     "text": [
      "Accuracy: 0.59085, Precision: 0.5018227476802009, Recall: 0.5929940277789638, F1-Score: 0.5275902386624757\n",
      "\n",
      "Training FFNN with tfidf and Sigmoid as an activation function\n",
      "Epoch [1/10], Loss: 2028.3624507188797\n",
      "Epoch [2/10], Loss: 1909.6063405275345\n",
      "Epoch [3/10], Loss: 1878.682795882225\n",
      "Epoch [4/10], Loss: 1853.0613781809807\n",
      "Epoch [5/10], Loss: 1830.747833609581\n",
      "Epoch [6/10], Loss: 1810.5023810863495\n",
      "Epoch [7/10], Loss: 1794.5962591171265\n",
      "Epoch [8/10], Loss: 1784.6853432655334\n",
      "Epoch [9/10], Loss: 1777.7796366810799\n",
      "Epoch [10/10], Loss: 1774.8702552318573\n",
      "Evaluation on Test Set:\n"
     ]
    },
    {
     "name": "stderr",
     "output_type": "stream",
     "text": [
      "C:\\Users\\SaharKadkhodaMasoumA\\AppData\\Local\\Packages\\PythonSoftwareFoundation.Python.3.10_qbz5n2kfra8p0\\LocalCache\\local-packages\\Python310\\site-packages\\sklearn\\metrics\\_classification.py:1497: UndefinedMetricWarning: Precision is ill-defined and being set to 0.0 in labels with no predicted samples. Use `zero_division` parameter to control this behavior.\n",
      "  _warn_prf(average, modifier, f\"{metric.capitalize()} is\", len(result))\n"
     ]
    },
    {
     "name": "stdout",
     "output_type": "stream",
     "text": [
      "Accuracy: 0.4536, Precision: 0.3546719341470822, Recall: 0.4535931848807375, F1-Score: 0.37539067898747575\n",
      "\n",
      "Training FFNN with tfidf and Softmax as an activation function\n",
      "Epoch [1/10], Loss: 1684.201228916645\n",
      "Epoch [2/10], Loss: 1496.6884635686874\n",
      "Epoch [3/10], Loss: 1447.003049492836\n",
      "Epoch [4/10], Loss: 1404.558314859867\n",
      "Epoch [5/10], Loss: 1361.492532670498\n",
      "Epoch [6/10], Loss: 1318.2550931572914\n",
      "Epoch [7/10], Loss: 1278.500360250473\n",
      "Epoch [8/10], Loss: 1246.0123883485794\n",
      "Epoch [9/10], Loss: 1222.7079489827156\n",
      "Epoch [10/10], Loss: 1207.5390406847\n",
      "Evaluation on Test Set:\n",
      "Accuracy: 0.52955, Precision: 0.4262029780118576, Recall: 0.5315308066577746, F1-Score: 0.4542369088206838\n",
      "\n"
     ]
    },
    {
     "name": "stderr",
     "output_type": "stream",
     "text": [
      "C:\\Users\\SaharKadkhodaMasoumA\\AppData\\Local\\Packages\\PythonSoftwareFoundation.Python.3.10_qbz5n2kfra8p0\\LocalCache\\local-packages\\Python310\\site-packages\\sklearn\\metrics\\_classification.py:1497: UndefinedMetricWarning: Precision is ill-defined and being set to 0.0 in labels with no predicted samples. Use `zero_division` parameter to control this behavior.\n",
      "  _warn_prf(average, modifier, f\"{metric.capitalize()} is\", len(result))\n"
     ]
    }
   ],
   "source": [
    "activation_functions = [nn.LeakyReLU(), nn.ELU(), nn.Sigmoid(), nn.Softmax(dim=1)]\n",
    "\n",
    "for activation_function in activation_functions:\n",
    "    print(f\"Training FFNN with tfidf and {activation_function.__class__.__name__} as an activation function\")\n",
    "    ffnn_tfidf = FFNN(input_size_tfidf, 256, output_size_tfidf, num_layers=2)\n",
    "    criterion = nn.CrossEntropyLoss()\n",
    "    optimizer = optim.Adam(ffnn_tfidf.parameters(), lr=0.001)\n",
    "    train_model(ffnn_tfidf, criterion, optimizer, train_loader_tfidf, num_epochs=10)\n",
    "    print(\"Evaluation on Test Set:\")\n",
    "    evaluate_model(ffnn_tfidf, test_loader_tfidf)\n",
    "    print()"
   ]
  },
  {
   "cell_type": "code",
   "execution_count": 23,
   "metadata": {},
   "outputs": [
    {
     "name": "stdout",
     "output_type": "stream",
     "text": [
      "Training FFNN with tfidf and LeakyReLU as an activation function\n",
      "Epoch [1/10], Loss: 1989.0983240008354\n",
      "Epoch [2/10], Loss: 1353.0579169988632\n",
      "Epoch [3/10], Loss: 1045.6689096987247\n",
      "Epoch [4/10], Loss: 918.1834497153759\n",
      "Epoch [5/10], Loss: 860.5946475565434\n",
      "Epoch [6/10], Loss: 805.3669632673264\n",
      "Epoch [7/10], Loss: 753.17565099895\n",
      "Epoch [8/10], Loss: 705.7292978316545\n",
      "Epoch [9/10], Loss: 669.6869882196188\n",
      "Epoch [10/10], Loss: 643.85013666749\n",
      "Evaluation on Test Set:\n"
     ]
    },
    {
     "name": "stderr",
     "output_type": "stream",
     "text": [
      "C:\\Users\\SaharKadkhodaMasoumA\\AppData\\Local\\Packages\\PythonSoftwareFoundation.Python.3.10_qbz5n2kfra8p0\\LocalCache\\local-packages\\Python310\\site-packages\\sklearn\\metrics\\_classification.py:1497: UndefinedMetricWarning: Precision is ill-defined and being set to 0.0 in labels with no predicted samples. Use `zero_division` parameter to control this behavior.\n",
      "  _warn_prf(average, modifier, f\"{metric.capitalize()} is\", len(result))\n"
     ]
    },
    {
     "name": "stdout",
     "output_type": "stream",
     "text": [
      "Accuracy: 0.67525, Precision: 0.5958855356498138, Recall: 0.6769820138908375, F1-Score: 0.622319832409534\n",
      "\n",
      "Training FFNN with tfidf and ELU as an activation function\n",
      "Epoch [1/10], Loss: 1741.1844599843025\n",
      "Epoch [2/10], Loss: 1542.819808781147\n",
      "Epoch [3/10], Loss: 1493.7148686647415\n",
      "Epoch [4/10], Loss: 1455.0220013856888\n",
      "Epoch [5/10], Loss: 1417.0658017992973\n",
      "Epoch [6/10], Loss: 1376.7458293437958\n",
      "Epoch [7/10], Loss: 1336.772608935833\n",
      "Epoch [8/10], Loss: 1299.9106670618057\n",
      "Epoch [9/10], Loss: 1269.2381512522697\n",
      "Epoch [10/10], Loss: 1246.8699571490288\n",
      "Evaluation on Test Set:\n"
     ]
    },
    {
     "name": "stderr",
     "output_type": "stream",
     "text": [
      "C:\\Users\\SaharKadkhodaMasoumA\\AppData\\Local\\Packages\\PythonSoftwareFoundation.Python.3.10_qbz5n2kfra8p0\\LocalCache\\local-packages\\Python310\\site-packages\\sklearn\\metrics\\_classification.py:1497: UndefinedMetricWarning: Precision is ill-defined and being set to 0.0 in labels with no predicted samples. Use `zero_division` parameter to control this behavior.\n",
      "  _warn_prf(average, modifier, f\"{metric.capitalize()} is\", len(result))\n"
     ]
    },
    {
     "name": "stdout",
     "output_type": "stream",
     "text": [
      "Accuracy: 0.5538, Precision: 0.4752740156301395, Recall: 0.5567484209814866, F1-Score: 0.5018888406457622\n",
      "\n",
      "Training FFNN with tfidf and Sigmoid as an activation function\n",
      "Epoch [1/10], Loss: 1697.6441856622696\n",
      "Epoch [2/10], Loss: 1502.6167083978653\n",
      "Epoch [3/10], Loss: 1452.2089486718178\n",
      "Epoch [4/10], Loss: 1411.4019531607628\n",
      "Epoch [5/10], Loss: 1372.9568030238152\n",
      "Epoch [6/10], Loss: 1334.5735786557198\n",
      "Epoch [7/10], Loss: 1298.6759565472603\n",
      "Epoch [8/10], Loss: 1267.5561074614525\n",
      "Epoch [9/10], Loss: 1245.2560103535652\n",
      "Epoch [10/10], Loss: 1229.4111191034317\n",
      "Evaluation on Test Set:\n"
     ]
    },
    {
     "name": "stderr",
     "output_type": "stream",
     "text": [
      "C:\\Users\\SaharKadkhodaMasoumA\\AppData\\Local\\Packages\\PythonSoftwareFoundation.Python.3.10_qbz5n2kfra8p0\\LocalCache\\local-packages\\Python310\\site-packages\\sklearn\\metrics\\_classification.py:1497: UndefinedMetricWarning: Precision is ill-defined and being set to 0.0 in labels with no predicted samples. Use `zero_division` parameter to control this behavior.\n",
      "  _warn_prf(average, modifier, f\"{metric.capitalize()} is\", len(result))\n"
     ]
    },
    {
     "name": "stdout",
     "output_type": "stream",
     "text": [
      "Accuracy: 0.58055, Precision: 0.48890891388077584, Recall: 0.5816266085872539, F1-Score: 0.5176493215945227\n",
      "\n",
      "Training FFNN with tfidf and Softmax as an activation function\n",
      "Epoch [1/10], Loss: 1077.9348317086697\n",
      "Epoch [2/10], Loss: 765.788494348526\n",
      "Epoch [3/10], Loss: 690.202105641365\n",
      "Epoch [4/10], Loss: 629.3187815696001\n",
      "Epoch [5/10], Loss: 568.375945404172\n",
      "Epoch [6/10], Loss: 508.4011527746916\n",
      "Epoch [7/10], Loss: 450.0943462923169\n",
      "Epoch [8/10], Loss: 400.73719269037247\n",
      "Epoch [9/10], Loss: 363.0493036210537\n",
      "Epoch [10/10], Loss: 337.2618256136775\n",
      "Evaluation on Test Set:\n",
      "Accuracy: 0.7244, Precision: 0.6799357441171696, Recall: 0.724543853929455, F1-Score: 0.696241392087842\n",
      "\n"
     ]
    },
    {
     "name": "stderr",
     "output_type": "stream",
     "text": [
      "C:\\Users\\SaharKadkhodaMasoumA\\AppData\\Local\\Packages\\PythonSoftwareFoundation.Python.3.10_qbz5n2kfra8p0\\LocalCache\\local-packages\\Python310\\site-packages\\sklearn\\metrics\\_classification.py:1497: UndefinedMetricWarning: Precision is ill-defined and being set to 0.0 in labels with no predicted samples. Use `zero_division` parameter to control this behavior.\n",
      "  _warn_prf(average, modifier, f\"{metric.capitalize()} is\", len(result))\n"
     ]
    }
   ],
   "source": [
    "input_size_tfidf = X_train_tfidf.shape[1]\n",
    "output_size_tfidf = len(label_encoder)\n",
    "activation_functions = [nn.LeakyReLU(), nn.ELU(), nn.Sigmoid(), nn.Softmax(dim=1)]\n",
    "\n",
    "for activation_function in activation_functions:\n",
    "    print(f\"Training FFNN with tfidf and {activation_function.__class__.__name__} as an activation function\")\n",
    "    ffnn_tfidf = FFNN(input_size_tfidf, 256, output_size_tfidf, num_layers=2)\n",
    "    criterion = nn.CrossEntropyLoss()\n",
    "    optimizer = optim.Adam(ffnn_tfidf.parameters(), lr=0.001)\n",
    "    train_model(ffnn_tfidf, criterion, optimizer, train_loader_tfidf, num_epochs=10)\n",
    "    print(\"Evaluation on Test Set:\")\n",
    "    evaluate_model(ffnn_tfidf, test_loader_tfidf)\n",
    "    print()"
   ]
  },
  {
   "cell_type": "markdown",
   "metadata": {},
   "source": [
    "# Model for evaluating batch size"
   ]
  },
  {
   "cell_type": "code",
   "execution_count": 16,
   "metadata": {},
   "outputs": [
    {
     "name": "stdout",
     "output_type": "stream",
     "text": [
      "Evaluating with batch size: 32\n"
     ]
    },
    {
     "name": "stderr",
     "output_type": "stream",
     "text": [
      "C:\\Users\\SaharKadkhodaMasoumA\\AppData\\Local\\Packages\\PythonSoftwareFoundation.Python.3.10_qbz5n2kfra8p0\\LocalCache\\local-packages\\Python310\\site-packages\\sklearn\\metrics\\_classification.py:1497: UndefinedMetricWarning: Precision is ill-defined and being set to 0.0 in labels with no predicted samples. Use `zero_division` parameter to control this behavior.\n",
      "  _warn_prf(average, modifier, f\"{metric.capitalize()} is\", len(result))\n"
     ]
    },
    {
     "name": "stdout",
     "output_type": "stream",
     "text": [
      "Accuracy: 0.6639, Precision: 0.5820561220094096, Recall: 0.661727117961166, F1-Score: 0.610218188955114\n"
     ]
    },
    {
     "name": "stderr",
     "output_type": "stream",
     "text": [
      "C:\\Users\\SaharKadkhodaMasoumA\\AppData\\Local\\Packages\\PythonSoftwareFoundation.Python.3.10_qbz5n2kfra8p0\\LocalCache\\local-packages\\Python310\\site-packages\\sklearn\\metrics\\_classification.py:1497: UndefinedMetricWarning: Precision is ill-defined and being set to 0.0 in labels with no predicted samples. Use `zero_division` parameter to control this behavior.\n",
      "  _warn_prf(average, modifier, f\"{metric.capitalize()} is\", len(result))\n"
     ]
    },
    {
     "name": "stdout",
     "output_type": "stream",
     "text": [
      "Accuracy: 0.65795, Precision: 0.585144779967459, Recall: 0.6556482963549323, F1-Score: 0.6068712857978127\n"
     ]
    },
    {
     "name": "stderr",
     "output_type": "stream",
     "text": [
      "C:\\Users\\SaharKadkhodaMasoumA\\AppData\\Local\\Packages\\PythonSoftwareFoundation.Python.3.10_qbz5n2kfra8p0\\LocalCache\\local-packages\\Python310\\site-packages\\sklearn\\metrics\\_classification.py:1497: UndefinedMetricWarning: Precision is ill-defined and being set to 0.0 in labels with no predicted samples. Use `zero_division` parameter to control this behavior.\n",
      "  _warn_prf(average, modifier, f\"{metric.capitalize()} is\", len(result))\n"
     ]
    },
    {
     "name": "stdout",
     "output_type": "stream",
     "text": [
      "Accuracy: 0.65855, Precision: 0.5825353352206907, Recall: 0.6565921369824285, F1-Score: 0.6065602077962062\n"
     ]
    },
    {
     "name": "stderr",
     "output_type": "stream",
     "text": [
      "C:\\Users\\SaharKadkhodaMasoumA\\AppData\\Local\\Packages\\PythonSoftwareFoundation.Python.3.10_qbz5n2kfra8p0\\LocalCache\\local-packages\\Python310\\site-packages\\sklearn\\metrics\\_classification.py:1497: UndefinedMetricWarning: Precision is ill-defined and being set to 0.0 in labels with no predicted samples. Use `zero_division` parameter to control this behavior.\n",
      "  _warn_prf(average, modifier, f\"{metric.capitalize()} is\", len(result))\n"
     ]
    },
    {
     "name": "stdout",
     "output_type": "stream",
     "text": [
      "Accuracy: 0.6548, Precision: 0.5822995837626215, Recall: 0.6527371696980302, F1-Score: 0.6045764283727169\n"
     ]
    },
    {
     "name": "stderr",
     "output_type": "stream",
     "text": [
      "C:\\Users\\SaharKadkhodaMasoumA\\AppData\\Local\\Packages\\PythonSoftwareFoundation.Python.3.10_qbz5n2kfra8p0\\LocalCache\\local-packages\\Python310\\site-packages\\sklearn\\metrics\\_classification.py:1497: UndefinedMetricWarning: Precision is ill-defined and being set to 0.0 in labels with no predicted samples. Use `zero_division` parameter to control this behavior.\n",
      "  _warn_prf(average, modifier, f\"{metric.capitalize()} is\", len(result))\n"
     ]
    },
    {
     "name": "stdout",
     "output_type": "stream",
     "text": [
      "Accuracy: 0.6526, Precision: 0.5768252173183499, Recall: 0.6505955889711281, F1-Score: 0.6019398127383091\n"
     ]
    },
    {
     "name": "stderr",
     "output_type": "stream",
     "text": [
      "C:\\Users\\SaharKadkhodaMasoumA\\AppData\\Local\\Packages\\PythonSoftwareFoundation.Python.3.10_qbz5n2kfra8p0\\LocalCache\\local-packages\\Python310\\site-packages\\sklearn\\metrics\\_classification.py:1497: UndefinedMetricWarning: Precision is ill-defined and being set to 0.0 in labels with no predicted samples. Use `zero_division` parameter to control this behavior.\n",
      "  _warn_prf(average, modifier, f\"{metric.capitalize()} is\", len(result))\n"
     ]
    },
    {
     "name": "stdout",
     "output_type": "stream",
     "text": [
      "Accuracy: 0.64685, Precision: 0.5728605920746674, Recall: 0.644680433460004, F1-Score: 0.597352077997791\n"
     ]
    },
    {
     "name": "stderr",
     "output_type": "stream",
     "text": [
      "C:\\Users\\SaharKadkhodaMasoumA\\AppData\\Local\\Packages\\PythonSoftwareFoundation.Python.3.10_qbz5n2kfra8p0\\LocalCache\\local-packages\\Python310\\site-packages\\sklearn\\metrics\\_classification.py:1497: UndefinedMetricWarning: Precision is ill-defined and being set to 0.0 in labels with no predicted samples. Use `zero_division` parameter to control this behavior.\n",
      "  _warn_prf(average, modifier, f\"{metric.capitalize()} is\", len(result))\n"
     ]
    },
    {
     "name": "stdout",
     "output_type": "stream",
     "text": [
      "Accuracy: 0.64695, Precision: 0.580826472394798, Recall: 0.6450085812560875, F1-Score: 0.6002016972910232\n"
     ]
    },
    {
     "name": "stderr",
     "output_type": "stream",
     "text": [
      "C:\\Users\\SaharKadkhodaMasoumA\\AppData\\Local\\Packages\\PythonSoftwareFoundation.Python.3.10_qbz5n2kfra8p0\\LocalCache\\local-packages\\Python310\\site-packages\\sklearn\\metrics\\_classification.py:1497: UndefinedMetricWarning: Precision is ill-defined and being set to 0.0 in labels with no predicted samples. Use `zero_division` parameter to control this behavior.\n",
      "  _warn_prf(average, modifier, f\"{metric.capitalize()} is\", len(result))\n"
     ]
    },
    {
     "name": "stdout",
     "output_type": "stream",
     "text": [
      "Accuracy: 0.64605, Precision: 0.5822553284465389, Recall: 0.644174797235471, F1-Score: 0.5996959002134712\n"
     ]
    },
    {
     "name": "stderr",
     "output_type": "stream",
     "text": [
      "C:\\Users\\SaharKadkhodaMasoumA\\AppData\\Local\\Packages\\PythonSoftwareFoundation.Python.3.10_qbz5n2kfra8p0\\LocalCache\\local-packages\\Python310\\site-packages\\sklearn\\metrics\\_classification.py:1497: UndefinedMetricWarning: Precision is ill-defined and being set to 0.0 in labels with no predicted samples. Use `zero_division` parameter to control this behavior.\n",
      "  _warn_prf(average, modifier, f\"{metric.capitalize()} is\", len(result))\n"
     ]
    },
    {
     "name": "stdout",
     "output_type": "stream",
     "text": [
      "Accuracy: 0.6482, Precision: 0.5815156340240213, Recall: 0.6463018744121237, F1-Score: 0.6008312939627337\n"
     ]
    },
    {
     "name": "stderr",
     "output_type": "stream",
     "text": [
      "C:\\Users\\SaharKadkhodaMasoumA\\AppData\\Local\\Packages\\PythonSoftwareFoundation.Python.3.10_qbz5n2kfra8p0\\LocalCache\\local-packages\\Python310\\site-packages\\sklearn\\metrics\\_classification.py:1497: UndefinedMetricWarning: Precision is ill-defined and being set to 0.0 in labels with no predicted samples. Use `zero_division` parameter to control this behavior.\n",
      "  _warn_prf(average, modifier, f\"{metric.capitalize()} is\", len(result))\n"
     ]
    },
    {
     "name": "stdout",
     "output_type": "stream",
     "text": [
      "Accuracy: 0.6465, Precision: 0.5827729239853529, Recall: 0.6445897408663583, F1-Score: 0.600456658559568\n",
      "Accuracy with batch size 256: None\n",
      "Evaluating with batch size: 64\n"
     ]
    },
    {
     "name": "stderr",
     "output_type": "stream",
     "text": [
      "C:\\Users\\SaharKadkhodaMasoumA\\AppData\\Local\\Packages\\PythonSoftwareFoundation.Python.3.10_qbz5n2kfra8p0\\LocalCache\\local-packages\\Python310\\site-packages\\sklearn\\metrics\\_classification.py:1497: UndefinedMetricWarning: Precision is ill-defined and being set to 0.0 in labels with no predicted samples. Use `zero_division` parameter to control this behavior.\n",
      "  _warn_prf(average, modifier, f\"{metric.capitalize()} is\", len(result))\n"
     ]
    },
    {
     "name": "stdout",
     "output_type": "stream",
     "text": [
      "Accuracy: 0.7419, Precision: 0.6847849895543794, Recall: 0.7424645554152078, F1-Score: 0.706375262921593\n"
     ]
    },
    {
     "name": "stderr",
     "output_type": "stream",
     "text": [
      "C:\\Users\\SaharKadkhodaMasoumA\\AppData\\Local\\Packages\\PythonSoftwareFoundation.Python.3.10_qbz5n2kfra8p0\\LocalCache\\local-packages\\Python310\\site-packages\\sklearn\\metrics\\_classification.py:1497: UndefinedMetricWarning: Precision is ill-defined and being set to 0.0 in labels with no predicted samples. Use `zero_division` parameter to control this behavior.\n",
      "  _warn_prf(average, modifier, f\"{metric.capitalize()} is\", len(result))\n"
     ]
    },
    {
     "name": "stdout",
     "output_type": "stream",
     "text": [
      "Accuracy: 0.73825, Precision: 0.6876490123057322, Recall: 0.7387890036129723, F1-Score: 0.7059787084144367\n"
     ]
    },
    {
     "name": "stderr",
     "output_type": "stream",
     "text": [
      "C:\\Users\\SaharKadkhodaMasoumA\\AppData\\Local\\Packages\\PythonSoftwareFoundation.Python.3.10_qbz5n2kfra8p0\\LocalCache\\local-packages\\Python310\\site-packages\\sklearn\\metrics\\_classification.py:1497: UndefinedMetricWarning: Precision is ill-defined and being set to 0.0 in labels with no predicted samples. Use `zero_division` parameter to control this behavior.\n",
      "  _warn_prf(average, modifier, f\"{metric.capitalize()} is\", len(result))\n"
     ]
    },
    {
     "name": "stdout",
     "output_type": "stream",
     "text": [
      "Accuracy: 0.7333, Precision: 0.683061261722556, Recall: 0.733591716680854, F1-Score: 0.702828108963097\n"
     ]
    },
    {
     "name": "stderr",
     "output_type": "stream",
     "text": [
      "C:\\Users\\SaharKadkhodaMasoumA\\AppData\\Local\\Packages\\PythonSoftwareFoundation.Python.3.10_qbz5n2kfra8p0\\LocalCache\\local-packages\\Python310\\site-packages\\sklearn\\metrics\\_classification.py:1497: UndefinedMetricWarning: Precision is ill-defined and being set to 0.0 in labels with no predicted samples. Use `zero_division` parameter to control this behavior.\n",
      "  _warn_prf(average, modifier, f\"{metric.capitalize()} is\", len(result))\n"
     ]
    },
    {
     "name": "stdout",
     "output_type": "stream",
     "text": [
      "Accuracy: 0.73195, Precision: 0.6856554450597745, Recall: 0.7325810970153356, F1-Score: 0.7024747045592796\n"
     ]
    },
    {
     "name": "stderr",
     "output_type": "stream",
     "text": [
      "C:\\Users\\SaharKadkhodaMasoumA\\AppData\\Local\\Packages\\PythonSoftwareFoundation.Python.3.10_qbz5n2kfra8p0\\LocalCache\\local-packages\\Python310\\site-packages\\sklearn\\metrics\\_classification.py:1497: UndefinedMetricWarning: Precision is ill-defined and being set to 0.0 in labels with no predicted samples. Use `zero_division` parameter to control this behavior.\n",
      "  _warn_prf(average, modifier, f\"{metric.capitalize()} is\", len(result))\n"
     ]
    },
    {
     "name": "stdout",
     "output_type": "stream",
     "text": [
      "Accuracy: 0.7295, Precision: 0.6779503230184114, Recall: 0.7297256851094707, F1-Score: 0.6983369869977978\n"
     ]
    },
    {
     "name": "stderr",
     "output_type": "stream",
     "text": [
      "C:\\Users\\SaharKadkhodaMasoumA\\AppData\\Local\\Packages\\PythonSoftwareFoundation.Python.3.10_qbz5n2kfra8p0\\LocalCache\\local-packages\\Python310\\site-packages\\sklearn\\metrics\\_classification.py:1497: UndefinedMetricWarning: Precision is ill-defined and being set to 0.0 in labels with no predicted samples. Use `zero_division` parameter to control this behavior.\n",
      "  _warn_prf(average, modifier, f\"{metric.capitalize()} is\", len(result))\n"
     ]
    },
    {
     "name": "stdout",
     "output_type": "stream",
     "text": [
      "Accuracy: 0.72705, Precision: 0.679708370516084, Recall: 0.7275224083407326, F1-Score: 0.6966226108802872\n"
     ]
    },
    {
     "name": "stderr",
     "output_type": "stream",
     "text": [
      "C:\\Users\\SaharKadkhodaMasoumA\\AppData\\Local\\Packages\\PythonSoftwareFoundation.Python.3.10_qbz5n2kfra8p0\\LocalCache\\local-packages\\Python310\\site-packages\\sklearn\\metrics\\_classification.py:1497: UndefinedMetricWarning: Precision is ill-defined and being set to 0.0 in labels with no predicted samples. Use `zero_division` parameter to control this behavior.\n",
      "  _warn_prf(average, modifier, f\"{metric.capitalize()} is\", len(result))\n"
     ]
    },
    {
     "name": "stdout",
     "output_type": "stream",
     "text": [
      "Accuracy: 0.72545, Precision: 0.6789137545054846, Recall: 0.7259081893978775, F1-Score: 0.6964398343245157\n"
     ]
    },
    {
     "name": "stderr",
     "output_type": "stream",
     "text": [
      "C:\\Users\\SaharKadkhodaMasoumA\\AppData\\Local\\Packages\\PythonSoftwareFoundation.Python.3.10_qbz5n2kfra8p0\\LocalCache\\local-packages\\Python310\\site-packages\\sklearn\\metrics\\_classification.py:1497: UndefinedMetricWarning: Precision is ill-defined and being set to 0.0 in labels with no predicted samples. Use `zero_division` parameter to control this behavior.\n",
      "  _warn_prf(average, modifier, f\"{metric.capitalize()} is\", len(result))\n"
     ]
    },
    {
     "name": "stdout",
     "output_type": "stream",
     "text": [
      "Accuracy: 0.7233, Precision: 0.6779000698842585, Recall: 0.7237604277731892, F1-Score: 0.6949232042368994\n"
     ]
    },
    {
     "name": "stderr",
     "output_type": "stream",
     "text": [
      "C:\\Users\\SaharKadkhodaMasoumA\\AppData\\Local\\Packages\\PythonSoftwareFoundation.Python.3.10_qbz5n2kfra8p0\\LocalCache\\local-packages\\Python310\\site-packages\\sklearn\\metrics\\_classification.py:1497: UndefinedMetricWarning: Precision is ill-defined and being set to 0.0 in labels with no predicted samples. Use `zero_division` parameter to control this behavior.\n",
      "  _warn_prf(average, modifier, f\"{metric.capitalize()} is\", len(result))\n"
     ]
    },
    {
     "name": "stdout",
     "output_type": "stream",
     "text": [
      "Accuracy: 0.7245, Precision: 0.6783932827333877, Recall: 0.724949851934195, F1-Score: 0.6957533035886423\n"
     ]
    },
    {
     "name": "stderr",
     "output_type": "stream",
     "text": [
      "C:\\Users\\SaharKadkhodaMasoumA\\AppData\\Local\\Packages\\PythonSoftwareFoundation.Python.3.10_qbz5n2kfra8p0\\LocalCache\\local-packages\\Python310\\site-packages\\sklearn\\metrics\\_classification.py:1497: UndefinedMetricWarning: Precision is ill-defined and being set to 0.0 in labels with no predicted samples. Use `zero_division` parameter to control this behavior.\n",
      "  _warn_prf(average, modifier, f\"{metric.capitalize()} is\", len(result))\n"
     ]
    },
    {
     "name": "stdout",
     "output_type": "stream",
     "text": [
      "Accuracy: 0.7251, Precision: 0.6807897722349743, Recall: 0.7256239640678585, F1-Score: 0.6967675600669601\n",
      "Accuracy with batch size 256: None\n",
      "Evaluating with batch size: 128\n",
      "Accuracy: 0.82235, Precision: 0.8254322844562866, Recall: 0.8219659914828418, F1-Score: 0.822201449845289\n",
      "Accuracy: 0.8198, Precision: 0.8230098011811297, Recall: 0.8194194231566418, F1-Score: 0.8204722047323697\n",
      "Accuracy: 0.8194, Precision: 0.8200415861795639, Recall: 0.8190351461096149, F1-Score: 0.8191175423765328\n",
      "Accuracy: 0.8158, Precision: 0.8149317206989928, Recall: 0.8153869276845478, F1-Score: 0.8146790723810209\n",
      "Accuracy: 0.81365, Precision: 0.8125185260552639, Recall: 0.8131683659793925, F1-Score: 0.8126635481305085\n",
      "Accuracy: 0.8114, Precision: 0.8113390763656299, Recall: 0.811014480530079, F1-Score: 0.8109956760827475\n",
      "Accuracy: 0.8088, Precision: 0.8082202132143383, Recall: 0.8083993215311743, F1-Score: 0.8080166066546312\n",
      "Accuracy: 0.80815, Precision: 0.8084284901342649, Recall: 0.8077816209117982, F1-Score: 0.8079009358541761\n",
      "Accuracy: 0.81055, Precision: 0.8103341437630072, Recall: 0.8101363185823593, F1-Score: 0.8101700940446236\n",
      "Accuracy: 0.8097, Precision: 0.8092710295640868, Recall: 0.8094030304541162, F1-Score: 0.809107617077373\n",
      "Accuracy with batch size 256: None\n",
      "Evaluating with batch size: 256\n",
      "Accuracy: 0.82585, Precision: 0.825559132252098, Recall: 0.825036082823081, F1-Score: 0.8242511653896682\n",
      "Accuracy: 0.8214, Precision: 0.8220952157953411, Recall: 0.820823103394486, F1-Score: 0.8211266105477426\n",
      "Accuracy: 0.82035, Precision: 0.8184458917479993, Recall: 0.8198258523770905, F1-Score: 0.818774448049768\n",
      "Accuracy: 0.8133, Precision: 0.8124827049513765, Recall: 0.8128072052732985, F1-Score: 0.8106005142863293\n",
      "Accuracy: 0.8126, Precision: 0.812437934275154, Recall: 0.8121995778162185, F1-Score: 0.8120709865570994\n",
      "Accuracy: 0.8111, Precision: 0.813350477328745, Recall: 0.8110332816344487, F1-Score: 0.8110362648865237\n",
      "Accuracy: 0.80925, Precision: 0.8087272685225123, Recall: 0.808677474759697, F1-Score: 0.8085206632948558\n",
      "Accuracy: 0.8094, Precision: 0.8087260661978327, Recall: 0.8090244973769245, F1-Score: 0.8087764413950893\n",
      "Accuracy: 0.8109, Precision: 0.8108578615130376, Recall: 0.8105239640950913, F1-Score: 0.8105982966864851\n",
      "Accuracy: 0.81085, Precision: 0.8101326064607033, Recall: 0.8104731018428918, F1-Score: 0.8101931752158847\n",
      "Accuracy with batch size 256: None\n"
     ]
    }
   ],
   "source": [
    "num_epochs = 10\n",
    "learning_rate = 0.001\n",
    "batch_sizes = [32, 64, 128, 256] \n",
    "results = {}\n",
    "input_size_count = X_train_count.shape[1]\n",
    "output_size_count = len(label_encoder)\n",
    "for batch_size in batch_sizes:\n",
    "    print(f\"Evaluating with batch size: {batch_size}\")\n",
    "    \n",
    "    model = FFNN(input_size_count, 256, output_size_count, num_layers=2, activation=nn.ReLU())\n",
    "    \n",
    "    criterion = nn.CrossEntropyLoss()\n",
    "    optimizer = optim.Adam(model.parameters(), lr=learning_rate)\n",
    "    for batch_size in batch_sizes: \n",
    "        train_loader_count = DataLoader(train_dataset_count, batch_size, shuffle=True)\n",
    "        test_loader_count = DataLoader(test_dataset_count, batch_size, shuffle=False)\n",
    "    \n",
    "    for epoch in range(num_epochs):\n",
    "        model.train()\n",
    "        for inputs, labels in train_loader_count:\n",
    "            optimizer.zero_grad()\n",
    "            inputs = inputs.float()\n",
    "            outputs = model(inputs)\n",
    "            loss = criterion(outputs, labels)\n",
    "            loss.backward()\n",
    "            optimizer.step()\n",
    "        accuracy = evaluate_model(model, test_loader_count)\n",
    "    results[batch_size] = accuracy\n",
    "    print(f\"Accuracy with batch size {batch_size}: {accuracy}\")\n",
    "\n"
   ]
  },
  {
   "cell_type": "code",
   "execution_count": 17,
   "metadata": {},
   "outputs": [
    {
     "name": "stdout",
     "output_type": "stream",
     "text": [
      "Evaluating with batch size: 32\n"
     ]
    },
    {
     "name": "stderr",
     "output_type": "stream",
     "text": [
      "C:\\Users\\SaharKadkhodaMasoumA\\AppData\\Local\\Packages\\PythonSoftwareFoundation.Python.3.10_qbz5n2kfra8p0\\LocalCache\\local-packages\\Python310\\site-packages\\sklearn\\metrics\\_classification.py:1497: UndefinedMetricWarning: Precision is ill-defined and being set to 0.0 in labels with no predicted samples. Use `zero_division` parameter to control this behavior.\n",
      "  _warn_prf(average, modifier, f\"{metric.capitalize()} is\", len(result))\n"
     ]
    },
    {
     "name": "stdout",
     "output_type": "stream",
     "text": [
      "Accuracy: 0.7785, Precision: 0.7068571195633515, Recall: 0.7771184342932531, F1-Score: 0.7391880127879042\n"
     ]
    },
    {
     "name": "stderr",
     "output_type": "stream",
     "text": [
      "C:\\Users\\SaharKadkhodaMasoumA\\AppData\\Local\\Packages\\PythonSoftwareFoundation.Python.3.10_qbz5n2kfra8p0\\LocalCache\\local-packages\\Python310\\site-packages\\sklearn\\metrics\\_classification.py:1497: UndefinedMetricWarning: Precision is ill-defined and being set to 0.0 in labels with no predicted samples. Use `zero_division` parameter to control this behavior.\n",
      "  _warn_prf(average, modifier, f\"{metric.capitalize()} is\", len(result))\n"
     ]
    },
    {
     "name": "stdout",
     "output_type": "stream",
     "text": [
      "Accuracy: 0.7776, Precision: 0.7146890539093732, Recall: 0.7763764289729352, F1-Score: 0.7400166903227179\n"
     ]
    },
    {
     "name": "stderr",
     "output_type": "stream",
     "text": [
      "C:\\Users\\SaharKadkhodaMasoumA\\AppData\\Local\\Packages\\PythonSoftwareFoundation.Python.3.10_qbz5n2kfra8p0\\LocalCache\\local-packages\\Python310\\site-packages\\sklearn\\metrics\\_classification.py:1497: UndefinedMetricWarning: Precision is ill-defined and being set to 0.0 in labels with no predicted samples. Use `zero_division` parameter to control this behavior.\n",
      "  _warn_prf(average, modifier, f\"{metric.capitalize()} is\", len(result))\n"
     ]
    },
    {
     "name": "stdout",
     "output_type": "stream",
     "text": [
      "Accuracy: 0.7701, Precision: 0.7093879166791007, Recall: 0.768912842139079, F1-Score: 0.7307228574091847\n"
     ]
    },
    {
     "name": "stderr",
     "output_type": "stream",
     "text": [
      "C:\\Users\\SaharKadkhodaMasoumA\\AppData\\Local\\Packages\\PythonSoftwareFoundation.Python.3.10_qbz5n2kfra8p0\\LocalCache\\local-packages\\Python310\\site-packages\\sklearn\\metrics\\_classification.py:1497: UndefinedMetricWarning: Precision is ill-defined and being set to 0.0 in labels with no predicted samples. Use `zero_division` parameter to control this behavior.\n",
      "  _warn_prf(average, modifier, f\"{metric.capitalize()} is\", len(result))\n"
     ]
    },
    {
     "name": "stdout",
     "output_type": "stream",
     "text": [
      "Accuracy: 0.7673, Precision: 0.7058298124342738, Recall: 0.7661660802468957, F1-Score: 0.7302470481227445\n"
     ]
    },
    {
     "name": "stderr",
     "output_type": "stream",
     "text": [
      "C:\\Users\\SaharKadkhodaMasoumA\\AppData\\Local\\Packages\\PythonSoftwareFoundation.Python.3.10_qbz5n2kfra8p0\\LocalCache\\local-packages\\Python310\\site-packages\\sklearn\\metrics\\_classification.py:1497: UndefinedMetricWarning: Precision is ill-defined and being set to 0.0 in labels with no predicted samples. Use `zero_division` parameter to control this behavior.\n",
      "  _warn_prf(average, modifier, f\"{metric.capitalize()} is\", len(result))\n"
     ]
    },
    {
     "name": "stdout",
     "output_type": "stream",
     "text": [
      "Accuracy: 0.7644, Precision: 0.7020157109110655, Recall: 0.7629532731243159, F1-Score: 0.7287519098533897\n"
     ]
    },
    {
     "name": "stderr",
     "output_type": "stream",
     "text": [
      "C:\\Users\\SaharKadkhodaMasoumA\\AppData\\Local\\Packages\\PythonSoftwareFoundation.Python.3.10_qbz5n2kfra8p0\\LocalCache\\local-packages\\Python310\\site-packages\\sklearn\\metrics\\_classification.py:1497: UndefinedMetricWarning: Precision is ill-defined and being set to 0.0 in labels with no predicted samples. Use `zero_division` parameter to control this behavior.\n",
      "  _warn_prf(average, modifier, f\"{metric.capitalize()} is\", len(result))\n"
     ]
    },
    {
     "name": "stdout",
     "output_type": "stream",
     "text": [
      "Accuracy: 0.76415, Precision: 0.7056110919888525, Recall: 0.7628770227285069, F1-Score: 0.7293567477613525\n"
     ]
    },
    {
     "name": "stderr",
     "output_type": "stream",
     "text": [
      "C:\\Users\\SaharKadkhodaMasoumA\\AppData\\Local\\Packages\\PythonSoftwareFoundation.Python.3.10_qbz5n2kfra8p0\\LocalCache\\local-packages\\Python310\\site-packages\\sklearn\\metrics\\_classification.py:1497: UndefinedMetricWarning: Precision is ill-defined and being set to 0.0 in labels with no predicted samples. Use `zero_division` parameter to control this behavior.\n",
      "  _warn_prf(average, modifier, f\"{metric.capitalize()} is\", len(result))\n"
     ]
    },
    {
     "name": "stdout",
     "output_type": "stream",
     "text": [
      "Accuracy: 0.7601, Precision: 0.702036195260589, Recall: 0.7589459622093918, F1-Score: 0.7248411482337376\n"
     ]
    },
    {
     "name": "stderr",
     "output_type": "stream",
     "text": [
      "C:\\Users\\SaharKadkhodaMasoumA\\AppData\\Local\\Packages\\PythonSoftwareFoundation.Python.3.10_qbz5n2kfra8p0\\LocalCache\\local-packages\\Python310\\site-packages\\sklearn\\metrics\\_classification.py:1497: UndefinedMetricWarning: Precision is ill-defined and being set to 0.0 in labels with no predicted samples. Use `zero_division` parameter to control this behavior.\n",
      "  _warn_prf(average, modifier, f\"{metric.capitalize()} is\", len(result))\n"
     ]
    },
    {
     "name": "stdout",
     "output_type": "stream",
     "text": [
      "Accuracy: 0.7608, Precision: 0.6998506100352828, Recall: 0.7595133235957012, F1-Score: 0.7252434464930593\n"
     ]
    },
    {
     "name": "stderr",
     "output_type": "stream",
     "text": [
      "C:\\Users\\SaharKadkhodaMasoumA\\AppData\\Local\\Packages\\PythonSoftwareFoundation.Python.3.10_qbz5n2kfra8p0\\LocalCache\\local-packages\\Python310\\site-packages\\sklearn\\metrics\\_classification.py:1497: UndefinedMetricWarning: Precision is ill-defined and being set to 0.0 in labels with no predicted samples. Use `zero_division` parameter to control this behavior.\n",
      "  _warn_prf(average, modifier, f\"{metric.capitalize()} is\", len(result))\n"
     ]
    },
    {
     "name": "stdout",
     "output_type": "stream",
     "text": [
      "Accuracy: 0.75955, Precision: 0.7018993988263531, Recall: 0.7583646619592668, F1-Score: 0.7251413178303672\n"
     ]
    },
    {
     "name": "stderr",
     "output_type": "stream",
     "text": [
      "C:\\Users\\SaharKadkhodaMasoumA\\AppData\\Local\\Packages\\PythonSoftwareFoundation.Python.3.10_qbz5n2kfra8p0\\LocalCache\\local-packages\\Python310\\site-packages\\sklearn\\metrics\\_classification.py:1497: UndefinedMetricWarning: Precision is ill-defined and being set to 0.0 in labels with no predicted samples. Use `zero_division` parameter to control this behavior.\n",
      "  _warn_prf(average, modifier, f\"{metric.capitalize()} is\", len(result))\n"
     ]
    },
    {
     "name": "stdout",
     "output_type": "stream",
     "text": [
      "Accuracy: 0.75975, Precision: 0.7017872206629396, Recall: 0.7585577838399102, F1-Score: 0.7252378759109156\n",
      "Accuracy with batch size 256: None\n",
      "Evaluating with batch size: 64\n"
     ]
    },
    {
     "name": "stderr",
     "output_type": "stream",
     "text": [
      "C:\\Users\\SaharKadkhodaMasoumA\\AppData\\Local\\Packages\\PythonSoftwareFoundation.Python.3.10_qbz5n2kfra8p0\\LocalCache\\local-packages\\Python310\\site-packages\\sklearn\\metrics\\_classification.py:1497: UndefinedMetricWarning: Precision is ill-defined and being set to 0.0 in labels with no predicted samples. Use `zero_division` parameter to control this behavior.\n",
      "  _warn_prf(average, modifier, f\"{metric.capitalize()} is\", len(result))\n"
     ]
    },
    {
     "name": "stdout",
     "output_type": "stream",
     "text": [
      "Accuracy: 0.67545, Precision: 0.5704008346365546, Recall: 0.6793876910355433, F1-Score: 0.6135939631239702\n"
     ]
    },
    {
     "name": "stderr",
     "output_type": "stream",
     "text": [
      "C:\\Users\\SaharKadkhodaMasoumA\\AppData\\Local\\Packages\\PythonSoftwareFoundation.Python.3.10_qbz5n2kfra8p0\\LocalCache\\local-packages\\Python310\\site-packages\\sklearn\\metrics\\_classification.py:1497: UndefinedMetricWarning: Precision is ill-defined and being set to 0.0 in labels with no predicted samples. Use `zero_division` parameter to control this behavior.\n",
      "  _warn_prf(average, modifier, f\"{metric.capitalize()} is\", len(result))\n"
     ]
    },
    {
     "name": "stdout",
     "output_type": "stream",
     "text": [
      "Accuracy: 0.6734, Precision: 0.5776856786540425, Recall: 0.6773771316419811, F1-Score: 0.6150065814111605\n"
     ]
    },
    {
     "name": "stderr",
     "output_type": "stream",
     "text": [
      "C:\\Users\\SaharKadkhodaMasoumA\\AppData\\Local\\Packages\\PythonSoftwareFoundation.Python.3.10_qbz5n2kfra8p0\\LocalCache\\local-packages\\Python310\\site-packages\\sklearn\\metrics\\_classification.py:1497: UndefinedMetricWarning: Precision is ill-defined and being set to 0.0 in labels with no predicted samples. Use `zero_division` parameter to control this behavior.\n",
      "  _warn_prf(average, modifier, f\"{metric.capitalize()} is\", len(result))\n"
     ]
    },
    {
     "name": "stdout",
     "output_type": "stream",
     "text": [
      "Accuracy: 0.67115, Precision: 0.5780881609004546, Recall: 0.6751712180762726, F1-Score: 0.6133413024433074\n"
     ]
    },
    {
     "name": "stderr",
     "output_type": "stream",
     "text": [
      "C:\\Users\\SaharKadkhodaMasoumA\\AppData\\Local\\Packages\\PythonSoftwareFoundation.Python.3.10_qbz5n2kfra8p0\\LocalCache\\local-packages\\Python310\\site-packages\\sklearn\\metrics\\_classification.py:1497: UndefinedMetricWarning: Precision is ill-defined and being set to 0.0 in labels with no predicted samples. Use `zero_division` parameter to control this behavior.\n",
      "  _warn_prf(average, modifier, f\"{metric.capitalize()} is\", len(result))\n"
     ]
    },
    {
     "name": "stdout",
     "output_type": "stream",
     "text": [
      "Accuracy: 0.66485, Precision: 0.5751187737133464, Recall: 0.6686103165136847, F1-Score: 0.610789175464268\n"
     ]
    },
    {
     "name": "stderr",
     "output_type": "stream",
     "text": [
      "C:\\Users\\SaharKadkhodaMasoumA\\AppData\\Local\\Packages\\PythonSoftwareFoundation.Python.3.10_qbz5n2kfra8p0\\LocalCache\\local-packages\\Python310\\site-packages\\sklearn\\metrics\\_classification.py:1497: UndefinedMetricWarning: Precision is ill-defined and being set to 0.0 in labels with no predicted samples. Use `zero_division` parameter to control this behavior.\n",
      "  _warn_prf(average, modifier, f\"{metric.capitalize()} is\", len(result))\n"
     ]
    },
    {
     "name": "stdout",
     "output_type": "stream",
     "text": [
      "Accuracy: 0.664, Precision: 0.5817609128447998, Recall: 0.6677443576949884, F1-Score: 0.6127584440439355\n"
     ]
    },
    {
     "name": "stderr",
     "output_type": "stream",
     "text": [
      "C:\\Users\\SaharKadkhodaMasoumA\\AppData\\Local\\Packages\\PythonSoftwareFoundation.Python.3.10_qbz5n2kfra8p0\\LocalCache\\local-packages\\Python310\\site-packages\\sklearn\\metrics\\_classification.py:1497: UndefinedMetricWarning: Precision is ill-defined and being set to 0.0 in labels with no predicted samples. Use `zero_division` parameter to control this behavior.\n",
      "  _warn_prf(average, modifier, f\"{metric.capitalize()} is\", len(result))\n"
     ]
    },
    {
     "name": "stdout",
     "output_type": "stream",
     "text": [
      "Accuracy: 0.66105, Precision: 0.5767664915703621, Recall: 0.6648111532823657, F1-Score: 0.6094485166595416\n"
     ]
    },
    {
     "name": "stderr",
     "output_type": "stream",
     "text": [
      "C:\\Users\\SaharKadkhodaMasoumA\\AppData\\Local\\Packages\\PythonSoftwareFoundation.Python.3.10_qbz5n2kfra8p0\\LocalCache\\local-packages\\Python310\\site-packages\\sklearn\\metrics\\_classification.py:1497: UndefinedMetricWarning: Precision is ill-defined and being set to 0.0 in labels with no predicted samples. Use `zero_division` parameter to control this behavior.\n",
      "  _warn_prf(average, modifier, f\"{metric.capitalize()} is\", len(result))\n"
     ]
    },
    {
     "name": "stdout",
     "output_type": "stream",
     "text": [
      "Accuracy: 0.6596, Precision: 0.5806668745192541, Recall: 0.663383554165991, F1-Score: 0.6098525161146493\n"
     ]
    },
    {
     "name": "stderr",
     "output_type": "stream",
     "text": [
      "C:\\Users\\SaharKadkhodaMasoumA\\AppData\\Local\\Packages\\PythonSoftwareFoundation.Python.3.10_qbz5n2kfra8p0\\LocalCache\\local-packages\\Python310\\site-packages\\sklearn\\metrics\\_classification.py:1497: UndefinedMetricWarning: Precision is ill-defined and being set to 0.0 in labels with no predicted samples. Use `zero_division` parameter to control this behavior.\n",
      "  _warn_prf(average, modifier, f\"{metric.capitalize()} is\", len(result))\n"
     ]
    },
    {
     "name": "stdout",
     "output_type": "stream",
     "text": [
      "Accuracy: 0.6583, Precision: 0.5818896858775207, Recall: 0.6620709648479183, F1-Score: 0.6097766008611852\n"
     ]
    },
    {
     "name": "stderr",
     "output_type": "stream",
     "text": [
      "C:\\Users\\SaharKadkhodaMasoumA\\AppData\\Local\\Packages\\PythonSoftwareFoundation.Python.3.10_qbz5n2kfra8p0\\LocalCache\\local-packages\\Python310\\site-packages\\sklearn\\metrics\\_classification.py:1497: UndefinedMetricWarning: Precision is ill-defined and being set to 0.0 in labels with no predicted samples. Use `zero_division` parameter to control this behavior.\n",
      "  _warn_prf(average, modifier, f\"{metric.capitalize()} is\", len(result))\n"
     ]
    },
    {
     "name": "stdout",
     "output_type": "stream",
     "text": [
      "Accuracy: 0.6576, Precision: 0.5838879347044476, Recall: 0.6614055200239951, F1-Score: 0.6099593992044848\n"
     ]
    },
    {
     "name": "stderr",
     "output_type": "stream",
     "text": [
      "C:\\Users\\SaharKadkhodaMasoumA\\AppData\\Local\\Packages\\PythonSoftwareFoundation.Python.3.10_qbz5n2kfra8p0\\LocalCache\\local-packages\\Python310\\site-packages\\sklearn\\metrics\\_classification.py:1497: UndefinedMetricWarning: Precision is ill-defined and being set to 0.0 in labels with no predicted samples. Use `zero_division` parameter to control this behavior.\n",
      "  _warn_prf(average, modifier, f\"{metric.capitalize()} is\", len(result))\n"
     ]
    },
    {
     "name": "stdout",
     "output_type": "stream",
     "text": [
      "Accuracy: 0.65755, Precision: 0.5832790481222379, Recall: 0.6613253246410282, F1-Score: 0.6096909470985705\n",
      "Accuracy with batch size 256: None\n",
      "Evaluating with batch size: 128\n"
     ]
    },
    {
     "name": "stderr",
     "output_type": "stream",
     "text": [
      "C:\\Users\\SaharKadkhodaMasoumA\\AppData\\Local\\Packages\\PythonSoftwareFoundation.Python.3.10_qbz5n2kfra8p0\\LocalCache\\local-packages\\Python310\\site-packages\\sklearn\\metrics\\_classification.py:1497: UndefinedMetricWarning: Precision is ill-defined and being set to 0.0 in labels with no predicted samples. Use `zero_division` parameter to control this behavior.\n",
      "  _warn_prf(average, modifier, f\"{metric.capitalize()} is\", len(result))\n"
     ]
    },
    {
     "name": "stdout",
     "output_type": "stream",
     "text": [
      "Accuracy: 0.7196, Precision: 0.6507317316024921, Recall: 0.7203189323250848, F1-Score: 0.6800544024021412\n"
     ]
    },
    {
     "name": "stderr",
     "output_type": "stream",
     "text": [
      "C:\\Users\\SaharKadkhodaMasoumA\\AppData\\Local\\Packages\\PythonSoftwareFoundation.Python.3.10_qbz5n2kfra8p0\\LocalCache\\local-packages\\Python310\\site-packages\\sklearn\\metrics\\_classification.py:1497: UndefinedMetricWarning: Precision is ill-defined and being set to 0.0 in labels with no predicted samples. Use `zero_division` parameter to control this behavior.\n",
      "  _warn_prf(average, modifier, f\"{metric.capitalize()} is\", len(result))\n"
     ]
    },
    {
     "name": "stdout",
     "output_type": "stream",
     "text": [
      "Accuracy: 0.73195, Precision: 0.6682130759467768, Recall: 0.7332898879869006, F1-Score: 0.697707109599149\n"
     ]
    },
    {
     "name": "stderr",
     "output_type": "stream",
     "text": [
      "C:\\Users\\SaharKadkhodaMasoumA\\AppData\\Local\\Packages\\PythonSoftwareFoundation.Python.3.10_qbz5n2kfra8p0\\LocalCache\\local-packages\\Python310\\site-packages\\sklearn\\metrics\\_classification.py:1497: UndefinedMetricWarning: Precision is ill-defined and being set to 0.0 in labels with no predicted samples. Use `zero_division` parameter to control this behavior.\n",
      "  _warn_prf(average, modifier, f\"{metric.capitalize()} is\", len(result))\n"
     ]
    },
    {
     "name": "stdout",
     "output_type": "stream",
     "text": [
      "Accuracy: 0.7303, Precision: 0.6728113333491235, Recall: 0.7315534045790063, F1-Score: 0.6981975283346753\n"
     ]
    },
    {
     "name": "stderr",
     "output_type": "stream",
     "text": [
      "C:\\Users\\SaharKadkhodaMasoumA\\AppData\\Local\\Packages\\PythonSoftwareFoundation.Python.3.10_qbz5n2kfra8p0\\LocalCache\\local-packages\\Python310\\site-packages\\sklearn\\metrics\\_classification.py:1497: UndefinedMetricWarning: Precision is ill-defined and being set to 0.0 in labels with no predicted samples. Use `zero_division` parameter to control this behavior.\n",
      "  _warn_prf(average, modifier, f\"{metric.capitalize()} is\", len(result))\n"
     ]
    },
    {
     "name": "stdout",
     "output_type": "stream",
     "text": [
      "Accuracy: 0.73375, Precision: 0.6746192324970575, Recall: 0.7353106734340904, F1-Score: 0.7012204466504994\n"
     ]
    },
    {
     "name": "stderr",
     "output_type": "stream",
     "text": [
      "C:\\Users\\SaharKadkhodaMasoumA\\AppData\\Local\\Packages\\PythonSoftwareFoundation.Python.3.10_qbz5n2kfra8p0\\LocalCache\\local-packages\\Python310\\site-packages\\sklearn\\metrics\\_classification.py:1497: UndefinedMetricWarning: Precision is ill-defined and being set to 0.0 in labels with no predicted samples. Use `zero_division` parameter to control this behavior.\n",
      "  _warn_prf(average, modifier, f\"{metric.capitalize()} is\", len(result))\n"
     ]
    },
    {
     "name": "stdout",
     "output_type": "stream",
     "text": [
      "Accuracy: 0.73645, Precision: 0.6800910447627465, Recall: 0.738105938740152, F1-Score: 0.7052922431793711\n"
     ]
    },
    {
     "name": "stderr",
     "output_type": "stream",
     "text": [
      "C:\\Users\\SaharKadkhodaMasoumA\\AppData\\Local\\Packages\\PythonSoftwareFoundation.Python.3.10_qbz5n2kfra8p0\\LocalCache\\local-packages\\Python310\\site-packages\\sklearn\\metrics\\_classification.py:1497: UndefinedMetricWarning: Precision is ill-defined and being set to 0.0 in labels with no predicted samples. Use `zero_division` parameter to control this behavior.\n",
      "  _warn_prf(average, modifier, f\"{metric.capitalize()} is\", len(result))\n"
     ]
    },
    {
     "name": "stdout",
     "output_type": "stream",
     "text": [
      "Accuracy: 0.7333, Precision: 0.6773755183786102, Recall: 0.7350179804348084, F1-Score: 0.7022472149214531\n"
     ]
    },
    {
     "name": "stderr",
     "output_type": "stream",
     "text": [
      "C:\\Users\\SaharKadkhodaMasoumA\\AppData\\Local\\Packages\\PythonSoftwareFoundation.Python.3.10_qbz5n2kfra8p0\\LocalCache\\local-packages\\Python310\\site-packages\\sklearn\\metrics\\_classification.py:1497: UndefinedMetricWarning: Precision is ill-defined and being set to 0.0 in labels with no predicted samples. Use `zero_division` parameter to control this behavior.\n",
      "  _warn_prf(average, modifier, f\"{metric.capitalize()} is\", len(result))\n"
     ]
    },
    {
     "name": "stdout",
     "output_type": "stream",
     "text": [
      "Accuracy: 0.73125, Precision: 0.6763271866991858, Recall: 0.7327412640852818, F1-Score: 0.7009714189647579\n"
     ]
    },
    {
     "name": "stderr",
     "output_type": "stream",
     "text": [
      "C:\\Users\\SaharKadkhodaMasoumA\\AppData\\Local\\Packages\\PythonSoftwareFoundation.Python.3.10_qbz5n2kfra8p0\\LocalCache\\local-packages\\Python310\\site-packages\\sklearn\\metrics\\_classification.py:1497: UndefinedMetricWarning: Precision is ill-defined and being set to 0.0 in labels with no predicted samples. Use `zero_division` parameter to control this behavior.\n",
      "  _warn_prf(average, modifier, f\"{metric.capitalize()} is\", len(result))\n"
     ]
    },
    {
     "name": "stdout",
     "output_type": "stream",
     "text": [
      "Accuracy: 0.73385, Precision: 0.6808379582034413, Recall: 0.7355136126459572, F1-Score: 0.7042464704591644\n"
     ]
    },
    {
     "name": "stderr",
     "output_type": "stream",
     "text": [
      "C:\\Users\\SaharKadkhodaMasoumA\\AppData\\Local\\Packages\\PythonSoftwareFoundation.Python.3.10_qbz5n2kfra8p0\\LocalCache\\local-packages\\Python310\\site-packages\\sklearn\\metrics\\_classification.py:1497: UndefinedMetricWarning: Precision is ill-defined and being set to 0.0 in labels with no predicted samples. Use `zero_division` parameter to control this behavior.\n",
      "  _warn_prf(average, modifier, f\"{metric.capitalize()} is\", len(result))\n"
     ]
    },
    {
     "name": "stdout",
     "output_type": "stream",
     "text": [
      "Accuracy: 0.73405, Precision: 0.6803581438819654, Recall: 0.7357416224403971, F1-Score: 0.7039853979974865\n"
     ]
    },
    {
     "name": "stderr",
     "output_type": "stream",
     "text": [
      "C:\\Users\\SaharKadkhodaMasoumA\\AppData\\Local\\Packages\\PythonSoftwareFoundation.Python.3.10_qbz5n2kfra8p0\\LocalCache\\local-packages\\Python310\\site-packages\\sklearn\\metrics\\_classification.py:1497: UndefinedMetricWarning: Precision is ill-defined and being set to 0.0 in labels with no predicted samples. Use `zero_division` parameter to control this behavior.\n",
      "  _warn_prf(average, modifier, f\"{metric.capitalize()} is\", len(result))\n"
     ]
    },
    {
     "name": "stdout",
     "output_type": "stream",
     "text": [
      "Accuracy: 0.734, Precision: 0.6800177124037856, Recall: 0.7357439340995462, F1-Score: 0.70386478196966\n",
      "Accuracy with batch size 256: None\n",
      "Evaluating with batch size: 256\n"
     ]
    },
    {
     "name": "stderr",
     "output_type": "stream",
     "text": [
      "C:\\Users\\SaharKadkhodaMasoumA\\AppData\\Local\\Packages\\PythonSoftwareFoundation.Python.3.10_qbz5n2kfra8p0\\LocalCache\\local-packages\\Python310\\site-packages\\sklearn\\metrics\\_classification.py:1497: UndefinedMetricWarning: Precision is ill-defined and being set to 0.0 in labels with no predicted samples. Use `zero_division` parameter to control this behavior.\n",
      "  _warn_prf(average, modifier, f\"{metric.capitalize()} is\", len(result))\n"
     ]
    },
    {
     "name": "stdout",
     "output_type": "stream",
     "text": [
      "Accuracy: 0.6851, Precision: 0.5797549227193489, Recall: 0.6866962836621362, F1-Score: 0.6230481615189695\n"
     ]
    },
    {
     "name": "stderr",
     "output_type": "stream",
     "text": [
      "C:\\Users\\SaharKadkhodaMasoumA\\AppData\\Local\\Packages\\PythonSoftwareFoundation.Python.3.10_qbz5n2kfra8p0\\LocalCache\\local-packages\\Python310\\site-packages\\sklearn\\metrics\\_classification.py:1497: UndefinedMetricWarning: Precision is ill-defined and being set to 0.0 in labels with no predicted samples. Use `zero_division` parameter to control this behavior.\n",
      "  _warn_prf(average, modifier, f\"{metric.capitalize()} is\", len(result))\n"
     ]
    },
    {
     "name": "stdout",
     "output_type": "stream",
     "text": [
      "Accuracy: 0.68795, Precision: 0.5809690416862402, Recall: 0.6897304609065239, F1-Score: 0.6255103698103892\n"
     ]
    },
    {
     "name": "stderr",
     "output_type": "stream",
     "text": [
      "C:\\Users\\SaharKadkhodaMasoumA\\AppData\\Local\\Packages\\PythonSoftwareFoundation.Python.3.10_qbz5n2kfra8p0\\LocalCache\\local-packages\\Python310\\site-packages\\sklearn\\metrics\\_classification.py:1497: UndefinedMetricWarning: Precision is ill-defined and being set to 0.0 in labels with no predicted samples. Use `zero_division` parameter to control this behavior.\n",
      "  _warn_prf(average, modifier, f\"{metric.capitalize()} is\", len(result))\n"
     ]
    },
    {
     "name": "stdout",
     "output_type": "stream",
     "text": [
      "Accuracy: 0.6879, Precision: 0.5910279484697235, Recall: 0.6898488099524617, F1-Score: 0.6292443694364606\n"
     ]
    },
    {
     "name": "stderr",
     "output_type": "stream",
     "text": [
      "C:\\Users\\SaharKadkhodaMasoumA\\AppData\\Local\\Packages\\PythonSoftwareFoundation.Python.3.10_qbz5n2kfra8p0\\LocalCache\\local-packages\\Python310\\site-packages\\sklearn\\metrics\\_classification.py:1497: UndefinedMetricWarning: Precision is ill-defined and being set to 0.0 in labels with no predicted samples. Use `zero_division` parameter to control this behavior.\n",
      "  _warn_prf(average, modifier, f\"{metric.capitalize()} is\", len(result))\n"
     ]
    },
    {
     "name": "stdout",
     "output_type": "stream",
     "text": [
      "Accuracy: 0.6876, Precision: 0.5904158087277311, Recall: 0.6895267596121698, F1-Score: 0.6288564289040022\n"
     ]
    },
    {
     "name": "stderr",
     "output_type": "stream",
     "text": [
      "C:\\Users\\SaharKadkhodaMasoumA\\AppData\\Local\\Packages\\PythonSoftwareFoundation.Python.3.10_qbz5n2kfra8p0\\LocalCache\\local-packages\\Python310\\site-packages\\sklearn\\metrics\\_classification.py:1497: UndefinedMetricWarning: Precision is ill-defined and being set to 0.0 in labels with no predicted samples. Use `zero_division` parameter to control this behavior.\n",
      "  _warn_prf(average, modifier, f\"{metric.capitalize()} is\", len(result))\n"
     ]
    },
    {
     "name": "stdout",
     "output_type": "stream",
     "text": [
      "Accuracy: 0.6826, Precision: 0.5907207824665026, Recall: 0.6845179742448595, F1-Score: 0.6262078151200162\n"
     ]
    },
    {
     "name": "stderr",
     "output_type": "stream",
     "text": [
      "C:\\Users\\SaharKadkhodaMasoumA\\AppData\\Local\\Packages\\PythonSoftwareFoundation.Python.3.10_qbz5n2kfra8p0\\LocalCache\\local-packages\\Python310\\site-packages\\sklearn\\metrics\\_classification.py:1497: UndefinedMetricWarning: Precision is ill-defined and being set to 0.0 in labels with no predicted samples. Use `zero_division` parameter to control this behavior.\n",
      "  _warn_prf(average, modifier, f\"{metric.capitalize()} is\", len(result))\n"
     ]
    },
    {
     "name": "stdout",
     "output_type": "stream",
     "text": [
      "Accuracy: 0.68485, Precision: 0.5919278500471753, Recall: 0.6867535602062219, F1-Score: 0.6278560647870479\n"
     ]
    },
    {
     "name": "stderr",
     "output_type": "stream",
     "text": [
      "C:\\Users\\SaharKadkhodaMasoumA\\AppData\\Local\\Packages\\PythonSoftwareFoundation.Python.3.10_qbz5n2kfra8p0\\LocalCache\\local-packages\\Python310\\site-packages\\sklearn\\metrics\\_classification.py:1497: UndefinedMetricWarning: Precision is ill-defined and being set to 0.0 in labels with no predicted samples. Use `zero_division` parameter to control this behavior.\n",
      "  _warn_prf(average, modifier, f\"{metric.capitalize()} is\", len(result))\n"
     ]
    },
    {
     "name": "stdout",
     "output_type": "stream",
     "text": [
      "Accuracy: 0.6848, Precision: 0.599803451071177, Recall: 0.6868368172483558, F1-Score: 0.6308112976769924\n"
     ]
    },
    {
     "name": "stderr",
     "output_type": "stream",
     "text": [
      "C:\\Users\\SaharKadkhodaMasoumA\\AppData\\Local\\Packages\\PythonSoftwareFoundation.Python.3.10_qbz5n2kfra8p0\\LocalCache\\local-packages\\Python310\\site-packages\\sklearn\\metrics\\_classification.py:1497: UndefinedMetricWarning: Precision is ill-defined and being set to 0.0 in labels with no predicted samples. Use `zero_division` parameter to control this behavior.\n",
      "  _warn_prf(average, modifier, f\"{metric.capitalize()} is\", len(result))\n"
     ]
    },
    {
     "name": "stdout",
     "output_type": "stream",
     "text": [
      "Accuracy: 0.68245, Precision: 0.5983047705647172, Recall: 0.6844387395215084, F1-Score: 0.6288824947881915\n"
     ]
    },
    {
     "name": "stderr",
     "output_type": "stream",
     "text": [
      "C:\\Users\\SaharKadkhodaMasoumA\\AppData\\Local\\Packages\\PythonSoftwareFoundation.Python.3.10_qbz5n2kfra8p0\\LocalCache\\local-packages\\Python310\\site-packages\\sklearn\\metrics\\_classification.py:1497: UndefinedMetricWarning: Precision is ill-defined and being set to 0.0 in labels with no predicted samples. Use `zero_division` parameter to control this behavior.\n",
      "  _warn_prf(average, modifier, f\"{metric.capitalize()} is\", len(result))\n"
     ]
    },
    {
     "name": "stdout",
     "output_type": "stream",
     "text": [
      "Accuracy: 0.6824, Precision: 0.5995928764105468, Recall: 0.6844208548521176, F1-Score: 0.6293758897544344\n",
      "Accuracy: 0.68275, Precision: 0.5984525250922998, Recall: 0.6847429480259987, F1-Score: 0.6291601255434467\n",
      "Accuracy with batch size 256: None\n"
     ]
    },
    {
     "name": "stderr",
     "output_type": "stream",
     "text": [
      "C:\\Users\\SaharKadkhodaMasoumA\\AppData\\Local\\Packages\\PythonSoftwareFoundation.Python.3.10_qbz5n2kfra8p0\\LocalCache\\local-packages\\Python310\\site-packages\\sklearn\\metrics\\_classification.py:1497: UndefinedMetricWarning: Precision is ill-defined and being set to 0.0 in labels with no predicted samples. Use `zero_division` parameter to control this behavior.\n",
      "  _warn_prf(average, modifier, f\"{metric.capitalize()} is\", len(result))\n"
     ]
    }
   ],
   "source": [
    "num_epochs = 10\n",
    "learning_rate = 0.001\n",
    "batch_sizes = [32, 64, 128, 256] \n",
    "results = {}\n",
    "input_size_count = X_train_tfidf.shape[1]\n",
    "output_size_count = len(label_encoder)\n",
    "for batch_size in batch_sizes:\n",
    "    print(f\"Evaluating with batch size: {batch_size}\")\n",
    "    \n",
    "    model = FFNN(input_size_count, 256, output_size_count, num_layers=2, activation=nn.ReLU())\n",
    "    \n",
    "    criterion = nn.CrossEntropyLoss()\n",
    "    optimizer = optim.Adam(model.parameters(), lr=learning_rate)\n",
    "    for batch_size in batch_sizes: \n",
    "        train_loader_count = DataLoader(train_dataset_count, batch_size, shuffle=True)\n",
    "        test_loader_count = DataLoader(test_dataset_count, batch_size, shuffle=False)\n",
    "    \n",
    "    for epoch in range(num_epochs):\n",
    "        model.train()\n",
    "        for inputs, labels in train_loader_count:\n",
    "            optimizer.zero_grad()\n",
    "            inputs = inputs.float()\n",
    "            outputs = model(inputs)\n",
    "            loss = criterion(outputs, labels)\n",
    "            loss.backward()\n",
    "            optimizer.step()\n",
    "        accuracy = evaluate_model(model, test_loader_count)\n",
    "    results[batch_size] = accuracy\n",
    "    print(f\"Accuracy with batch size {batch_size}: {accuracy}\")\n"
   ]
  },
  {
   "cell_type": "markdown",
   "metadata": {},
   "source": [
    "# Model for regularization"
   ]
  },
  {
   "cell_type": "code",
   "execution_count": 18,
   "metadata": {},
   "outputs": [],
   "source": [
    "\n",
    "\n",
    "class FFNN_regularization(nn.Module):\n",
    "    def __init__(self, input_size, hidden_size, output_size, dropout_rate=0.5):\n",
    "        super(FFNN_regularization, self).__init__()\n",
    "        self.fc1 = nn.Linear(input_size, hidden_size)\n",
    "        self.dropout = nn.Dropout(dropout_rate)\n",
    "        self.fc2 = nn.Linear(hidden_size, output_size)\n",
    "\n",
    "    def forward(self, x):\n",
    "        x = torch.relu(self.fc1(x))\n",
    "        x = self.dropout(x)\n",
    "        x = self.fc2(x)\n",
    "        return x\n"
   ]
  },
  {
   "cell_type": "code",
   "execution_count": 30,
   "metadata": {},
   "outputs": [
    {
     "name": "stdout",
     "output_type": "stream",
     "text": [
      "Epoch [1/10], Loss: 803.1190403103828\n",
      "Epoch [2/10], Loss: 528.7452176064253\n",
      "Epoch [3/10], Loss: 412.16740706562996\n",
      "Epoch [4/10], Loss: 325.4513051956892\n",
      "Epoch [5/10], Loss: 253.0888447985053\n",
      "Epoch [6/10], Loss: 201.6329963169992\n",
      "Epoch [7/10], Loss: 162.31344585865736\n",
      "Epoch [8/10], Loss: 136.57539752218872\n",
      "Epoch [9/10], Loss: 113.82700414489955\n",
      "Epoch [10/10], Loss: 101.64528997661546\n",
      "Evaluation on Test Set:\n",
      "Accuracy: 0.8227, Precision: 0.823572286469816, Recall: 0.8224513551533272, F1-Score: 0.8224330314293568\n",
      "\n"
     ]
    }
   ],
   "source": [
    "input_size_count = X_train_count.shape[1]\n",
    "output_size_count = len(label_encoder)\n",
    "ffnn_count = FFNN_regularization(input_size_count, 256, output_size_count)\n",
    "criterion = nn.CrossEntropyLoss()\n",
    "optimizer = optim.Adam(ffnn_count.parameters(), lr=0.001)\n",
    "train_model(ffnn_count, criterion, optimizer, train_loader_count, num_epochs=10)\n",
    "print(\"Evaluation on Test Set:\")\n",
    "evaluate_model(ffnn_count, test_loader_count)\n",
    "print()"
   ]
  },
  {
   "cell_type": "code",
   "execution_count": 19,
   "metadata": {},
   "outputs": [
    {
     "name": "stdout",
     "output_type": "stream",
     "text": [
      "Epoch [1/10], Loss: 222.48153260350227\n",
      "Epoch [2/10], Loss: 140.18351757526398\n",
      "Epoch [3/10], Loss: 114.07512375712395\n",
      "Epoch [4/10], Loss: 93.81218022108078\n",
      "Epoch [5/10], Loss: 76.5084165930748\n",
      "Epoch [6/10], Loss: 61.93401847034693\n",
      "Epoch [7/10], Loss: 49.72272405028343\n",
      "Epoch [8/10], Loss: 40.39252459257841\n",
      "Epoch [9/10], Loss: 33.31942366436124\n",
      "Epoch [10/10], Loss: 27.530828561633825\n",
      "Evaluation on Test Set:\n",
      "Accuracy: 0.82535, Precision: 0.8244408031734916, Recall: 0.8249560068774324, F1-Score: 0.8246063205706873\n",
      "\n"
     ]
    }
   ],
   "source": [
    "input_size_count = X_train_tfidf.shape[1]\n",
    "output_size_count = len(label_encoder)\n",
    "ffnn_count = FFNN_regularization(input_size_count, 256, output_size_count)\n",
    "criterion = nn.CrossEntropyLoss()\n",
    "optimizer = optim.Adam(ffnn_count.parameters(), lr=0.001)\n",
    "train_model(ffnn_count, criterion, optimizer, train_loader_count, num_epochs=10)\n",
    "print(\"Evaluation on Test Set:\")\n",
    "evaluate_model(ffnn_count, test_loader_count)\n",
    "print()"
   ]
  }
 ],
 "metadata": {
  "kernelspec": {
   "display_name": "Python 3",
   "language": "python",
   "name": "python3"
  },
  "language_info": {
   "codemirror_mode": {
    "name": "ipython",
    "version": 3
   },
   "file_extension": ".py",
   "mimetype": "text/x-python",
   "name": "python",
   "nbconvert_exporter": "python",
   "pygments_lexer": "ipython3",
   "version": "3.10.11"
  }
 },
 "nbformat": 4,
 "nbformat_minor": 2
}
