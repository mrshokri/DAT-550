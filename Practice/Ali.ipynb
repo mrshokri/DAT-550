{
 "cells": [
  {
   "cell_type": "code",
   "execution_count": 19,
   "metadata": {},
   "outputs": [],
   "source": [
    "import numpy as np\n",
    "import pandas as pd\n",
    "from sklearn.feature_extraction.text import ENGLISH_STOP_WORDS\n",
    "import re"
   ]
  },
  {
   "cell_type": "markdown",
   "metadata": {},
   "source": [
    "### Import Dataset"
   ]
  },
  {
   "cell_type": "code",
   "execution_count": 15,
   "metadata": {},
   "outputs": [],
   "source": [
    "train_df = pd.read_csv(\"../Data/arxiv_train.csv\")\n",
    "test_df = pd.read_csv(\"../Data/arxiv_test.csv\")"
   ]
  },
  {
   "cell_type": "markdown",
   "metadata": {},
   "source": [
    "### Dataset Overview"
   ]
  },
  {
   "cell_type": "code",
   "execution_count": 18,
   "metadata": {},
   "outputs": [
    {
     "name": "stdout",
     "output_type": "stream",
     "text": [
      "Number of articles: 80000\n",
      "\n",
      "Research Fields\n",
      "1. astro-ph\n",
      "2. cond-mat\n",
      "3. cs\n",
      "4. eess\n",
      "5. hep-ph\n",
      "6. hep-th\n",
      "7. math\n",
      "8. physics\n",
      "9. quant-ph\n",
      "10. stat\n"
     ]
    }
   ],
   "source": [
    "research_fields = sorted(train_df[\"label\"].unique())\n",
    "\n",
    "# Getting number of rows\n",
    "num_rows = train_df.shape[0]\n",
    "print(f\"Number of articles: {num_rows}\\n\")\n",
    "\n",
    "# Printing each unique element in an ordered list format\n",
    "print(\"Research Fields\")\n",
    "for i, element in enumerate(research_fields, start=1):\n",
    "    print(f\"{i}. {element}\")"
   ]
  },
  {
   "cell_type": "markdown",
   "metadata": {},
   "source": [
    "### Data Cleaning"
   ]
  },
  {
   "cell_type": "code",
   "execution_count": 20,
   "metadata": {},
   "outputs": [],
   "source": [
    "def clean_text(text):\n",
    "\n",
    "    # Remove special characters\n",
    "    text = re.sub(r\"\\W\", \" \", text)\n",
    "\n",
    "    # Remove single characters\n",
    "    text = re.sub(r\"\\s+[a-zA-Z]\\s+\", \" \", text)\n",
    "\n",
    "    # Remove single characters from the start\n",
    "    text = re.sub(r\"\\^[a-zA-Z]\\s+\", \" \", text)\n",
    "\n",
    "    # Substitute multiple spaces with single space\n",
    "    text = re.sub(r\"\\s+\", \" \", text, flags=re.I)\n",
    "\n",
    "    # Remove prefixed 'b'\n",
    "    text = re.sub(r\"^b\\s+\", \"\", text)\n",
    "\n",
    "    # Converting to Lowercase\n",
    "    text = text.lower()\n",
    "\n",
    "    # Removing stopwords\n",
    "    stopwords = set(ENGLISH_STOP_WORDS)\n",
    "    text = \" \".join([word for word in text.split() if word not in stopwords])\n",
    "\n",
    "    return text\n",
    "\n",
    "\n",
    "# Cleaning the abstracts\n",
    "train_df[\"cleaned_abstract\"] = train_df[\"abstract\"].apply(clean_text)"
   ]
  },
  {
   "cell_type": "code",
   "execution_count": 23,
   "metadata": {},
   "outputs": [
    {
     "data": {
      "text/html": [
       "<div>\n",
       "<style scoped>\n",
       "    .dataframe tbody tr th:only-of-type {\n",
       "        vertical-align: middle;\n",
       "    }\n",
       "\n",
       "    .dataframe tbody tr th {\n",
       "        vertical-align: top;\n",
       "    }\n",
       "\n",
       "    .dataframe thead th {\n",
       "        text-align: right;\n",
       "    }\n",
       "</style>\n",
       "<table border=\"1\" class=\"dataframe\">\n",
       "  <thead>\n",
       "    <tr style=\"text-align: right;\">\n",
       "      <th></th>\n",
       "      <th>Unnamed: 0</th>\n",
       "      <th>abstract</th>\n",
       "      <th>label</th>\n",
       "      <th>cleaned_abstract</th>\n",
       "    </tr>\n",
       "  </thead>\n",
       "  <tbody>\n",
       "    <tr>\n",
       "      <th>0</th>\n",
       "      <td>31716</td>\n",
       "      <td>Automatic meeting analysis is an essential f...</td>\n",
       "      <td>eess</td>\n",
       "      <td>automatic meeting analysis essential fundament...</td>\n",
       "    </tr>\n",
       "    <tr>\n",
       "      <th>1</th>\n",
       "      <td>89533</td>\n",
       "      <td>We propose a protocol to encode classical bi...</td>\n",
       "      <td>quant-ph</td>\n",
       "      <td>propose protocol encode classical bits measure...</td>\n",
       "    </tr>\n",
       "    <tr>\n",
       "      <th>2</th>\n",
       "      <td>82700</td>\n",
       "      <td>A number of physically intuitive results for...</td>\n",
       "      <td>quant-ph</td>\n",
       "      <td>number physically intuitive results calculatio...</td>\n",
       "    </tr>\n",
       "    <tr>\n",
       "      <th>3</th>\n",
       "      <td>78830</td>\n",
       "      <td>In the last decade rare-earth hexaborides ha...</td>\n",
       "      <td>physics</td>\n",
       "      <td>decade rare earth hexaborides investigated fun...</td>\n",
       "    </tr>\n",
       "    <tr>\n",
       "      <th>4</th>\n",
       "      <td>94948</td>\n",
       "      <td>We introduce the weak barycenter of a family...</td>\n",
       "      <td>stat</td>\n",
       "      <td>introduce weak barycenter family probability d...</td>\n",
       "    </tr>\n",
       "    <tr>\n",
       "      <th>5</th>\n",
       "      <td>74849</td>\n",
       "      <td>Direct Statistical Simulation (DSS) solves t...</td>\n",
       "      <td>physics</td>\n",
       "      <td>direct statistical simulation dss solves equat...</td>\n",
       "    </tr>\n",
       "    <tr>\n",
       "      <th>6</th>\n",
       "      <td>66424</td>\n",
       "      <td>We introduce a notion of a girth-regular gra...</td>\n",
       "      <td>math</td>\n",
       "      <td>introduce notion girth regular graph k regular...</td>\n",
       "    </tr>\n",
       "    <tr>\n",
       "      <th>7</th>\n",
       "      <td>6562</td>\n",
       "      <td>Planet host stars with well-constrained ages...</td>\n",
       "      <td>astro-ph</td>\n",
       "      <td>planet host stars constrained ages provide rar...</td>\n",
       "    </tr>\n",
       "    <tr>\n",
       "      <th>8</th>\n",
       "      <td>84292</td>\n",
       "      <td>Unprecedented increase of complexity and sca...</td>\n",
       "      <td>quant-ph</td>\n",
       "      <td>unprecedented increase complexity scale data e...</td>\n",
       "    </tr>\n",
       "    <tr>\n",
       "      <th>9</th>\n",
       "      <td>18822</td>\n",
       "      <td>The usual concepts of topological physics, s...</td>\n",
       "      <td>cond-mat</td>\n",
       "      <td>usual concepts topological physics berry curva...</td>\n",
       "    </tr>\n",
       "  </tbody>\n",
       "</table>\n",
       "</div>"
      ],
      "text/plain": [
       "   Unnamed: 0                                           abstract     label  \\\n",
       "0       31716    Automatic meeting analysis is an essential f...      eess   \n",
       "1       89533    We propose a protocol to encode classical bi...  quant-ph   \n",
       "2       82700    A number of physically intuitive results for...  quant-ph   \n",
       "3       78830    In the last decade rare-earth hexaborides ha...   physics   \n",
       "4       94948    We introduce the weak barycenter of a family...      stat   \n",
       "5       74849    Direct Statistical Simulation (DSS) solves t...   physics   \n",
       "6       66424    We introduce a notion of a girth-regular gra...      math   \n",
       "7        6562    Planet host stars with well-constrained ages...  astro-ph   \n",
       "8       84292    Unprecedented increase of complexity and sca...  quant-ph   \n",
       "9       18822    The usual concepts of topological physics, s...  cond-mat   \n",
       "\n",
       "                                    cleaned_abstract  \n",
       "0  automatic meeting analysis essential fundament...  \n",
       "1  propose protocol encode classical bits measure...  \n",
       "2  number physically intuitive results calculatio...  \n",
       "3  decade rare earth hexaborides investigated fun...  \n",
       "4  introduce weak barycenter family probability d...  \n",
       "5  direct statistical simulation dss solves equat...  \n",
       "6  introduce notion girth regular graph k regular...  \n",
       "7  planet host stars constrained ages provide rar...  \n",
       "8  unprecedented increase complexity scale data e...  \n",
       "9  usual concepts topological physics berry curva...  "
      ]
     },
     "execution_count": 23,
     "metadata": {},
     "output_type": "execute_result"
    }
   ],
   "source": [
    "train_df.head(10)"
   ]
  }
 ],
 "metadata": {
  "kernelspec": {
   "display_name": "myenv",
   "language": "python",
   "name": "python3"
  },
  "language_info": {
   "codemirror_mode": {
    "name": "ipython",
    "version": 3
   },
   "file_extension": ".py",
   "mimetype": "text/x-python",
   "name": "python",
   "nbconvert_exporter": "python",
   "pygments_lexer": "ipython3",
   "version": "3.11.4"
  }
 },
 "nbformat": 4,
 "nbformat_minor": 2
}
